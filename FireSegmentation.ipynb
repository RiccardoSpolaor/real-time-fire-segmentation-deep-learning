{
  "cells": [
    {
      "cell_type": "markdown",
      "metadata": {
        "id": "view-in-github",
        "colab_type": "text"
      },
      "source": [
        "<a href=\"https://colab.research.google.com/github/maidacundo/fire-segmentation-deep-learning/blob/main/FireSegmentation.ipynb\" target=\"_parent\"><img src=\"https://colab.research.google.com/assets/colab-badge.svg\" alt=\"Open In Colab\"/></a>"
      ]
    },
    {
      "cell_type": "markdown",
      "metadata": {
        "id": "shLoK79MReRi"
      },
      "source": [
        "## Data\n",
        "\n",
        "https://github.com/AlirezaShamsoshoara/Fire-Detection-UAV-Aerial-Image-Classification-Segmentation-UnmannedAerialVehicle"
      ]
    },
    {
      "cell_type": "code",
      "source": [
        "is_colab = True\n",
        "\n",
        "if is_colab:\n",
        "    from google.colab import drive\n",
        "    drive.mount('/content/drive')"
      ],
      "metadata": {
        "colab": {
          "base_uri": "https://localhost:8080/"
        },
        "id": "cnyLVqNISsAF",
        "outputId": "e9050263-fc17-4012-c08b-5144986c486e"
      },
      "execution_count": 1,
      "outputs": [
        {
          "output_type": "stream",
          "name": "stdout",
          "text": [
            "Mounted at /content/drive\n"
          ]
        }
      ]
    },
    {
      "cell_type": "code",
      "source": [
        "import numpy as np\n",
        "import random\n",
        "import torch\n",
        "\n",
        "def fix_random(seed: int) -> None:\n",
        "\n",
        "    np.random.seed(seed)\n",
        "    random.seed(seed)\n",
        "    torch.manual_seed(seed)\n",
        "    torch.cuda.manual_seed(seed)\n",
        "    \n",
        "    torch.backends.cudnn.benchmark = False\n",
        "    torch.backends.cudnn.deterministic = True "
      ],
      "metadata": {
        "id": "husq2nSAR3--"
      },
      "execution_count": 2,
      "outputs": []
    },
    {
      "cell_type": "code",
      "execution_count": 3,
      "metadata": {
        "id": "I5HsO_2IYpHb"
      },
      "outputs": [],
      "source": [
        "RANDOM_STATE = 42\n",
        "fix_random(RANDOM_STATE)"
      ]
    },
    {
      "cell_type": "code",
      "execution_count": null,
      "metadata": {
        "id": "EngDWFs7TQ9U"
      },
      "outputs": [],
      "source": [
        "!unzip /content/drive/MyDrive/fire-segmentation/images.zip -d /content\n",
        "!unzip /content/drive/MyDrive/fire-segmentation/masks.zip -d /content"
      ]
    },
    {
      "cell_type": "code",
      "execution_count": 4,
      "metadata": {
        "id": "x2Od36vEZ1UY"
      },
      "outputs": [],
      "source": [
        "import numpy as np"
      ]
    },
    {
      "cell_type": "code",
      "execution_count": 5,
      "metadata": {
        "id": "KIJmHxV1SbuX"
      },
      "outputs": [],
      "source": [
        "IMAGE_RESIZE = (512, 512)"
      ]
    },
    {
      "cell_type": "code",
      "execution_count": 6,
      "metadata": {
        "id": "2zIY4j_ZXDfp"
      },
      "outputs": [],
      "source": [
        "import cv2\n",
        "import os\n",
        "from zipfile import ZipFile\n",
        "\n",
        "def load_images_from_zip(zip_file, is_mask, resize_shape=(512, 512)):\n",
        "    images = []\n",
        "    folder = 'Masks/' if is_mask else 'Images/'\n",
        "    i = 0\n",
        "    with ZipFile(zip_file) as zf:\n",
        "        for base, dirs, files in os.walk(folder):\n",
        "            sorted_files = sorted(files, key=lambda x: int(x.split('_')[1].replace('.jpg', '').replace('.png', '')))\n",
        "            for filename in sorted_files:\n",
        "                data = zf.read(base + filename)\n",
        "                if is_mask:\n",
        "                    img = cv2.imdecode(np.frombuffer(data, np.uint8), cv2.IMREAD_GRAYSCALE)\n",
        "                else:\n",
        "                    img = cv2.imdecode(np.frombuffer(data, np.uint8), 1)\n",
        "\n",
        "                if img is not None:\n",
        "                    img = cv2.resize(img, resize_shape, interpolation = cv2.INTER_AREA)\n",
        "                    images.append(img)\n",
        "                i+=1\n",
        "                #if i == 100:\n",
        "                    #break\n",
        "        \n",
        "    return np.array(images)"
      ]
    },
    {
      "cell_type": "code",
      "source": [
        "images = load_images_from_zip('/content/drive/MyDrive/fire-segmentation/images.zip', is_mask=False)"
      ],
      "metadata": {
        "id": "7SoL-W5nyxDk"
      },
      "execution_count": 7,
      "outputs": []
    },
    {
      "cell_type": "code",
      "source": [],
      "metadata": {
        "id": "0_GwEtyxS97q"
      },
      "execution_count": null,
      "outputs": []
    },
    {
      "cell_type": "code",
      "source": [
        "masks = load_images_from_zip('/content/drive/MyDrive/fire-segmentation/masks.zip', is_mask=True)"
      ],
      "metadata": {
        "id": "YZ2IVW5c2mW7"
      },
      "execution_count": null,
      "outputs": []
    },
    {
      "cell_type": "code",
      "source": [
        "assert len(images) == len(masks)"
      ],
      "metadata": {
        "id": "8TG4G0fI2pGn"
      },
      "execution_count": null,
      "outputs": []
    },
    {
      "cell_type": "code",
      "source": [
        "import cv2\n",
        "import os\n",
        "\n",
        "def load_images_from_folder(folder, is_mask, resize_shape=(512, 512)):\n",
        "    images = []\n",
        "    i = 0\n",
        "    for filename in sorted(os.listdir(folder)):\n",
        "        if is_mask:\n",
        "            img = cv2.imread(os.path.join(folder,filename), cv2.IMREAD_GRAYSCALE)\n",
        "        else:\n",
        "            img = cv2.imread(os.path.join(folder,filename))\n",
        "\n",
        "        if img is not None:\n",
        "            img = cv2.resize(img, resize_shape, interpolation = cv2.INTER_AREA)\n",
        "            images.append(img)\n",
        "        i+=1\n",
        "        # if i == 100:\n",
        "            # break\n",
        "        \n",
        "    return np.array(images)"
      ],
      "metadata": {
        "id": "e0VphXsFp0Dg"
      },
      "execution_count": 9,
      "outputs": []
    },
    {
      "cell_type": "code",
      "execution_count": 10,
      "metadata": {
        "id": "Ss4rqh4_XmzD"
      },
      "outputs": [],
      "source": [
        "images = load_images_from_folder('/content/Images', is_mask=False)\n",
        "masks = load_images_from_folder('/content/Masks', is_mask=True)"
      ]
    },
    {
      "cell_type": "code",
      "source": [
        "def get_highlighted_roi_by_mask(image: np.ndarray, mask: np.ndarray, highlight_channel: str = 'green') -> np.ndarray:\n",
        "    \"\"\"\n",
        "    Function that highlights a Region of Interest provided by a mask over an image with a given BGR colour.\n",
        "    Parameters\n",
        "    ----------\n",
        "    image: ndarray\n",
        "        Image on which the mask is highlighted\n",
        "    mask: ndarray\n",
        "        Mask illustrating the Region of Interest to highlight over the mage\n",
        "    highlight_channel: str, optional\n",
        "        Colour of the highlighted mask: 'blue'; 'green' or 'red' (default: 'green')\n",
        "    Returns\n",
        "    -------\n",
        "    highlighted_roi: ndarray\n",
        "        Highlighted Region of Interest over the input image\n",
        "    \"\"\"\n",
        "    channel_map = {'blue': 0, 'green': 1, 'red': 2}\n",
        "    # Turn img into BGR image if img is a Grayscale image\n",
        "    if len(image.shape) == 2:\n",
        "        image = cv2.cvtColor(image, cv2.COLOR_GRAY2BGR)\n",
        "    # Turn mask into BGR image if img is a BGR image\n",
        "    mask = cv2.cvtColor(mask, cv2.COLOR_GRAY2BGR)\n",
        "    # Force the bits of every channel except the selected one at 0\n",
        "    mask[:, :, [i for i in range(3) if i != channel_map[highlight_channel]]] = 0\n",
        "    mask[mask == 1] = 255\n",
        "    # Highlight the unmasked ROI\n",
        "    return cv2.addWeighted(mask, 0.9, image, 1, 0)"
      ],
      "metadata": {
        "id": "tBMScR2m3a33"
      },
      "execution_count": 11,
      "outputs": []
    },
    {
      "cell_type": "code",
      "execution_count": 12,
      "metadata": {
        "colab": {
          "base_uri": "https://localhost:8080/",
          "height": 773
        },
        "id": "n2OdQXkJSbuZ",
        "outputId": "d2edb48a-6df7-491b-811c-b15080ab0776"
      },
      "outputs": [
        {
          "output_type": "display_data",
          "data": {
            "text/plain": [
              "<Figure size 432x288 with 1 Axes>"
            ],
            "image/png": "[encoded data removed]"
          },
          "metadata": {
            "needs_background": "light"
          }
        },
        {
          "output_type": "display_data",
          "data": {
            "text/plain": [
              "<Figure size 432x288 with 1 Axes>"
            ],
            "image/png": "[encoded data removed]"
          },
          "metadata": {
            "needs_background": "light"
          }
        },
        {
          "output_type": "display_data",
          "data": {
            "text/plain": [
              "<Figure size 432x288 with 1 Axes>"
            ],
            "image/png": "[encoded data removed]"
          },
          "metadata": {
            "needs_background": "light"
          }
        }
      ],
      "source": [
        "import matplotlib.pyplot as plt\n",
        "plt.imshow(cv2.cvtColor(images[0], cv2.COLOR_BGR2RGB))\n",
        "plt.show()\n",
        "plt.imshow(masks[0], cmap='gray', vmin=0., vmax=1.)\n",
        "plt.show()\n",
        "plt.imshow(cv2.cvtColor(get_highlighted_roi_by_mask(images[0], masks[0]), cv2.COLOR_BGR2RGB))\n",
        "plt.show()"
      ]
    },
    {
      "cell_type": "code",
      "execution_count": 13,
      "metadata": {
        "id": "R9lzIH52YTGZ"
      },
      "outputs": [],
      "source": [
        "from sklearn.model_selection import train_test_split\n",
        "\n",
        "X_train, X_test, y_train, y_test =  train_test_split(images, masks, test_size=0.15, shuffle=True, random_state=RANDOM_STATE)"
      ]
    },
    {
      "cell_type": "code",
      "execution_count": 14,
      "metadata": {
        "id": "-465pF0Gbi7u"
      },
      "outputs": [],
      "source": [
        "X_train, X_val, y_train, y_val =  train_test_split(X_train, y_train, test_size=0.15, shuffle=True, random_state=RANDOM_STATE)"
      ]
    },
    {
      "cell_type": "code",
      "execution_count": 15,
      "metadata": {
        "colab": {
          "base_uri": "https://localhost:8080/"
        },
        "id": "wJvbKrpibwiI",
        "outputId": "aec01770-bec8-4009-d1c1-bd5278439aa4"
      },
      "outputs": [
        {
          "output_type": "stream",
          "name": "stdout",
          "text": [
            "Train shapes: (1446, 512, 512, 3), (1446, 512, 512)\n",
            "Val shapes: (256, 512, 512, 3), (256, 512, 512)\n",
            "Test shapes: (301, 512, 512, 3), (301, 512, 512)\n"
          ]
        }
      ],
      "source": [
        "print(f'Train shapes: {X_train.shape}, {y_train.shape}')\n",
        "print(f'Val shapes: {X_val.shape}, {y_val.shape}')\n",
        "print(f'Test shapes: {X_test.shape}, {y_test.shape}')"
      ]
    },
    {
      "cell_type": "markdown",
      "metadata": {
        "id": "-Hfb8b33f-Ig"
      },
      "source": [
        "## Model\n",
        "\n",
        "![image.png](data:image/png;base64,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)"
      ]
    },
    {
      "cell_type": "markdown",
      "metadata": {
        "id": "Z3utCzx92Lkb"
      },
      "source": [
        "![image.png](data:image/png;base64,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)"
      ]
    },
    {
      "cell_type": "code",
      "execution_count": 105,
      "metadata": {
        "id": "hSZOrhiR3ovL"
      },
      "outputs": [],
      "source": [
        "import torch\n",
        "from torch import nn \n",
        "import torch.nn.functional as F"
      ]
    },
    {
      "cell_type": "code",
      "execution_count": 106,
      "metadata": {
        "id": "QXIEIjk_kH-i"
      },
      "outputs": [],
      "source": [
        "class MobileBottleNeck(nn.Module):\n",
        "\n",
        "    def __init__(self, in_channels, expansion, out_channels, kernel_size, activation_layer, use_squeeze_excitation, stride=1, padding=1):\n",
        "        super(MobileBottleNeck, self).__init__()\n",
        "\n",
        "        self.use_skip_conn = stride == 1 and in_channels == out_channels\n",
        "        self.use_squeeze_excitation = use_squeeze_excitation\n",
        "\n",
        "        self.standard_conv = nn.Sequential(\n",
        "            nn.Conv2d(in_channels, expansion, kernel_size=1, bias=False),\n",
        "            nn.BatchNorm2d(expansion),\n",
        "            activation_layer(),\n",
        "        )\n",
        "\n",
        "\n",
        "        # DEPTH-WISE CONV\n",
        "\n",
        "\n",
        "        self.depthwise_conv = nn.Sequential(\n",
        "            nn.Conv2d(expansion, expansion, kernel_size=kernel_size, stride=stride, \n",
        "                                        groups=expansion, padding=padding, bias=False),\n",
        "            nn.BatchNorm2d(expansion),\n",
        "        )\n",
        "\n",
        "        # SQUEEZE-AND-EXCITATION\n",
        "\n",
        "        self.squeeze_excitation = nn.Sequential(\n",
        "            nn.AdaptiveAvgPool2d(output_size=1),\n",
        "            nn.Conv2d(expansion, in_channels, kernel_size=1),\n",
        "            nn.ReLU(),\n",
        "            nn.Conv2d(in_channels, expansion, kernel_size=1),\n",
        "            nn.Hardswish(),\n",
        "        )\n",
        "\n",
        "\n",
        "        # POINTWISE CONVOLUTION\n",
        "        self.pointwise_conv = nn.Sequential( \n",
        "            nn.Conv2d(expansion, out_channels, kernel_size=1, bias=False),\n",
        "            nn.BatchNorm2d(out_channels),\n",
        "            #activation_layer(),\n",
        "        )\n",
        "\n",
        "    def forward(self, x):\n",
        "        residual = x.clone()\n",
        "\n",
        "        # STANDARD CONV\n",
        "        out = self.standard_conv(x)\n",
        "\n",
        "        # DEPTH-WISE CONV\n",
        "        depth_wise_out = self.depthwise_conv(out)\n",
        "        if self.use_squeeze_excitation:\n",
        "            # SQUEEZE-AND-EXCITATION\n",
        "            out = self.squeeze_excitation(depth_wise_out)\n",
        "\n",
        "            out = out * depth_wise_out    \n",
        "        \n",
        "        else:\n",
        "            out = depth_wise_out\n",
        "\n",
        "            \n",
        "        # POINTWISE CONVOLUTION\n",
        "        out = self.pointwise_conv(out)\n",
        "\n",
        "        if self.use_skip_conn:\n",
        "            out = out + residual\n",
        "\n",
        "        return out"
      ]
    },
    {
      "cell_type": "code",
      "execution_count": 107,
      "metadata": {
        "id": "_VjkY7ptjEVK"
      },
      "outputs": [],
      "source": [
        "class DCNN(nn.Module):\n",
        "    def __init__(self):\n",
        "        super().__init__()\n",
        "        in_channels = 3\n",
        "\n",
        "        # INPUT LAYERS\n",
        "        self.input_convolution = nn.Sequential(\n",
        "            nn.Conv2d(in_channels, 16, kernel_size=3, stride=2, padding=1, bias=False),\n",
        "            nn.BatchNorm2d(16),\n",
        "            nn.Hardswish(),\n",
        "        )\n",
        "\n",
        "        # BOTTLENECKS \n",
        "        self.bottleneck1 =  nn.Sequential(\n",
        "            MobileBottleNeck(16, 16, 16, 3, nn.ReLU, False, stride=1),\n",
        "        )\n",
        "\n",
        "        self.bottleneck2 =  nn.Sequential(\n",
        "            MobileBottleNeck(16, 64, 24, 3, nn.ReLU, False, stride=2, padding=1),\n",
        "            MobileBottleNeck(24, 72, 24, 3, nn.ReLU, False, stride=1),\n",
        "        )\n",
        "\n",
        "        self.bottleneck3 =  nn.Sequential(\n",
        "            MobileBottleNeck(24, 72, 40, 5, nn.ReLU, True, stride=2, padding=2),\n",
        "            MobileBottleNeck(40, 120, 40, 5, nn.ReLU, True, stride=1, padding=2),\n",
        "            MobileBottleNeck(40, 120, 40, 5, nn.ReLU, True, stride=1, padding=2),\n",
        "        )    \n",
        "        self.bottleneck4 =  nn.Sequential(        \n",
        "            MobileBottleNeck(40, 240, 80, 3, nn.Hardswish, False, stride=2),\n",
        "            MobileBottleNeck(80, 200, 80, 3, nn.Hardswish, False, stride=1),\n",
        "            MobileBottleNeck(80, 184, 80, 3, nn.Hardswish, False, stride=1),\n",
        "            MobileBottleNeck(80, 184, 80, 3, nn.Hardswish, False, stride=1),\n",
        "            MobileBottleNeck(80, 480, 112, 3, nn.Hardswish, True, stride=1),\n",
        "            MobileBottleNeck(112, 672, 160, 3, nn.Hardswish, True, stride=1),\n",
        "            MobileBottleNeck(160, 672, 160, 5, nn.Hardswish, True, stride=1, padding=2),\n",
        "            MobileBottleNeck(160, 960, 160, 5, nn.Hardswish, True, stride=1, padding=2),\n",
        "            MobileBottleNeck(160, 960, 160, 5, nn.Hardswish, True, stride=1, padding=2),\n",
        "        )\n",
        "\n",
        "    def forward(self, x):\n",
        "        out = self.input_convolution(x)\n",
        "        f1 = self.bottleneck1(out)\n",
        "        f2 = self.bottleneck2(f1)\n",
        "        f3 = self.bottleneck3(f2)\n",
        "        out = self.bottleneck4(f3)\n",
        "        \n",
        "        return f1, f2, f3, out"
      ]
    },
    {
      "cell_type": "code",
      "execution_count": 108,
      "metadata": {
        "id": "5mqlLae4i9Ty"
      },
      "outputs": [],
      "source": [
        "class ASPP(nn.Module):\n",
        "    def __init__(self):\n",
        "        super().__init__()\n",
        "\n",
        "        in_channels = 160\n",
        "        out_channels = 256\n",
        "\n",
        "        # STANDARD CONVOLUTION LAYER\n",
        "\n",
        "        self.standard_conv = nn.Sequential(\n",
        "            nn.Conv2d(in_channels, out_channels, kernel_size=1, stride=1, bias=False),\n",
        "            nn.BatchNorm2d(out_channels),\n",
        "            nn.ReLU(),\n",
        "        )\n",
        "\n",
        "        # ATROUS CONVOLUTION LAYERS\n",
        "\n",
        "        self.atrous_conv_1 = nn.Sequential(\n",
        "            nn.Conv2d(in_channels, out_channels, kernel_size=3, stride=1, bias=False, dilation=6, padding=6),\n",
        "            nn.BatchNorm2d(out_channels),\n",
        "            nn.ReLU(),\n",
        "        )\n",
        "\n",
        "        self.atrous_conv_2 = nn.Sequential(\n",
        "            nn.Conv2d(in_channels, out_channels, kernel_size=3, stride=1, bias=False, dilation=12, padding=12),\n",
        "            nn.BatchNorm2d(out_channels),\n",
        "            nn.ReLU(),\n",
        "        )\n",
        "\n",
        "        self.atrous_conv_3 = nn.Sequential(\n",
        "            nn.Conv2d(in_channels, out_channels, kernel_size=3, stride=1, bias=False, dilation=18, padding=18),\n",
        "            nn.BatchNorm2d(out_channels),\n",
        "            nn.ReLU(),\n",
        "        )\n",
        "\n",
        "        # IMAGE POOLING\n",
        "        self.image_pooling = nn.Sequential(\n",
        "            nn.AdaptiveAvgPool2d(output_size=1),\n",
        "            nn.Conv2d(in_channels, out_channels, kernel_size=1, stride=1, bias=False),\n",
        "            nn.BatchNorm2d(out_channels),\n",
        "            nn.ReLU(),\n",
        "        )\n",
        "\n",
        "        self.final_conv = nn.Sequential(\n",
        "            nn.Conv2d(out_channels*5, out_channels, kernel_size=1, stride=1, bias=False),\n",
        "            nn.BatchNorm2d(out_channels),\n",
        "            nn.ReLU(),\n",
        "            nn.Dropout(0.1),\n",
        "        )\n",
        "\n",
        "    def forward(self, x):\n",
        "\n",
        "        out1 = self.standard_conv(x)\n",
        "        out2 = self.atrous_conv_1(x)\n",
        "        out3 = self.atrous_conv_2(x)\n",
        "        out4 = self.atrous_conv_3(x)\n",
        "\n",
        "        out5 = self.image_pooling(x)\n",
        "        # replicate spatially the pooling result\n",
        "        out5 = F.interpolate(out5, size=x.shape[-2:], mode='bilinear', align_corners=False)\n",
        "\n",
        "        out = torch.cat([out1, out2, out3, out4, out5], dim=1)\n",
        "        f4 = self.final_conv(out)\n",
        "\n",
        "        return f4"
      ]
    },
    {
      "cell_type": "code",
      "execution_count": 109,
      "metadata": {
        "id": "sdb4o-7HjFVd"
      },
      "outputs": [],
      "source": [
        "class Encoder(nn.Module):\n",
        "    def __init__(self):\n",
        "        super().__init__()\n",
        "        self.dcnn = DCNN()\n",
        "        self.aspp = ASPP()\n",
        "\n",
        "    def forward(self, x):\n",
        "        f1, f2, f3, out = self.dcnn(x)\n",
        "        f4 = self.aspp(out)\n",
        "        return f1, f2, f3, f4 "
      ]
    },
    {
      "cell_type": "code",
      "execution_count": 110,
      "metadata": {
        "id": "tfIl8UhtjBBi"
      },
      "outputs": [],
      "source": [
        "class Decoder(nn.Module):\n",
        "    def __init__(self):\n",
        "        super().__init__()\n",
        "        out_channels = 256\n",
        "        f2_size = (128, 128)\n",
        "\n",
        "        self.conv_f1 = nn.Sequential(\n",
        "            nn.Conv2d(16, out_channels, kernel_size=1, bias=False),\n",
        "            nn.BatchNorm2d(out_channels),\n",
        "            nn.ReLU(),\n",
        "        )\n",
        "        self.conv_f2 = nn.Sequential(\n",
        "            nn.Conv2d(24, out_channels, kernel_size=1, bias=False),\n",
        "            nn.BatchNorm2d(out_channels),\n",
        "            nn.ReLU(),\n",
        "        )\n",
        "        self.conv_f3 = nn.Sequential(\n",
        "            nn.Conv2d(40, out_channels, kernel_size=1, bias=False),\n",
        "            nn.BatchNorm2d(out_channels),\n",
        "            nn.ReLU(),\n",
        "        )\n",
        "\n",
        "        self.upsample_f1 = nn.Upsample(f2_size, mode='bilinear', align_corners=False)\n",
        "        self.upsample_f3 = nn.Upsample(f2_size, mode='bilinear', align_corners=False)\n",
        "        self.upsample_f4 = nn.Upsample(f2_size, mode='bilinear', align_corners=False)\n",
        "\n",
        "        self.final_conv = nn.Sequential(\n",
        "            nn.Conv2d(out_channels * 4, 256, kernel_size=3, bias=False),\n",
        "            nn.BatchNorm2d(256),\n",
        "            nn.ReLU(),\n",
        "            nn.Conv2d(256, 2, kernel_size=1, stride=1),\n",
        "        )\n",
        "\n",
        "        self.final_upsample = nn.Upsample((512, 512), mode='bilinear', align_corners=False)\n",
        "\n",
        "    def forward(self, f1, f2, f3, f4):\n",
        "        out_f1 = self.conv_f1(f1)\n",
        "        out_f2 = self.conv_f2(f2)\n",
        "        out_f3 = self.conv_f3(f3)\n",
        "\n",
        "        out_f1 = self.upsample_f1(out_f1)\n",
        "        out_f3 = self.upsample_f3(out_f3)\n",
        "        out_f4 = self.upsample_f4(f4)\n",
        "\n",
        "        out = torch.cat([out_f1, out_f2, out_f3, out_f4], dim=1)\n",
        "\n",
        "        out = self.final_conv(out)\n",
        "        out = self.final_upsample(out)\n",
        "\n",
        "        return out"
      ]
    },
    {
      "cell_type": "code",
      "execution_count": 111,
      "metadata": {
        "id": "hOCZXKd2gMux"
      },
      "outputs": [],
      "source": [
        "class FireSegmentationModel(nn.Module):\n",
        "    def __init__(self, device: str):\n",
        "        super().__init__()\n",
        "        self.encoder = Encoder()\n",
        "        self.decoder = Decoder()\n",
        "        self.to(device)\n",
        "        \n",
        "    def forward(self, x: torch.FloatTensor):\n",
        "        #x = x.permute(0, 3, 1, 2)\n",
        "        f1, f2, f3, f4 = self.encoder(x)\n",
        "        out = self.decoder(f1, f2, f3, f4)\n",
        "        #out = out.permute(0, 2, 3, 1)\n",
        "        return out\n",
        "        "
      ]
    },
    {
      "cell_type": "code",
      "execution_count": 112,
      "metadata": {
        "id": "sC-JSTYnSbun"
      },
      "outputs": [],
      "source": [
        "model = FireSegmentationModel('cuda')"
      ]
    },
    {
      "cell_type": "code",
      "source": [
        "model"
      ],
      "metadata": {
        "id": "tKiK09e9Eot9",
        "outputId": "1ff22dd1-abeb-4dcb-e9f8-78ab1e4ac1e3",
        "colab": {
          "base_uri": "https://localhost:8080/"
        }
      },
      "execution_count": 113,
      "outputs": [
        {
          "output_type": "execute_result",
          "data": {
            "text/plain": [
              "FireSegmentationModel(\n",
              "  (encoder): Encoder(\n",
              "    (dcnn): DCNN(\n",
              "      (input_convolution): Sequential(\n",
              "        (0): Conv2d(3, 16, kernel_size=(3, 3), stride=(2, 2), padding=(1, 1), bias=False)\n",
              "        (1): BatchNorm2d(16, eps=1e-05, momentum=0.1, affine=True, track_running_stats=True)\n",
              "        (2): Hardswish()\n",
              "      )\n",
              "      (bottleneck1): Sequential(\n",
              "        (0): MobileBottleNeck(\n",
              "          (standard_conv): Sequential(\n",
              "            (0): Conv2d(16, 16, kernel_size=(1, 1), stride=(1, 1), bias=False)\n",
              "            (1): BatchNorm2d(16, eps=1e-05, momentum=0.1, affine=True, track_running_stats=True)\n",
              "            (2): ReLU()\n",
              "          )\n",
              "          (depthwise_conv): Sequential(\n",
              "            (0): Conv2d(16, 16, kernel_size=(3, 3), stride=(1, 1), padding=(1, 1), groups=16, bias=False)\n",
              "            (1): BatchNorm2d(16, eps=1e-05, momentum=0.1, affine=True, track_running_stats=True)\n",
              "          )\n",
              "          (squeeze_excitation): Sequential(\n",
              "            (0): AdaptiveAvgPool2d(output_size=1)\n",
              "            (1): Conv2d(16, 16, kernel_size=(1, 1), stride=(1, 1))\n",
              "            (2): ReLU()\n",
              "            (3): Conv2d(16, 16, kernel_size=(1, 1), stride=(1, 1))\n",
              "            (4): Hardswish()\n",
              "          )\n",
              "          (pointwise_conv): Sequential(\n",
              "            (0): Conv2d(16, 16, kernel_size=(1, 1), stride=(1, 1), bias=False)\n",
              "            (1): BatchNorm2d(16, eps=1e-05, momentum=0.1, affine=True, track_running_stats=True)\n",
              "          )\n",
              "        )\n",
              "      )\n",
              "      (bottleneck2): Sequential(\n",
              "        (0): MobileBottleNeck(\n",
              "          (standard_conv): Sequential(\n",
              "            (0): Conv2d(16, 64, kernel_size=(1, 1), stride=(1, 1), bias=False)\n",
              "            (1): BatchNorm2d(64, eps=1e-05, momentum=0.1, affine=True, track_running_stats=True)\n",
              "            (2): ReLU()\n",
              "          )\n",
              "          (depthwise_conv): Sequential(\n",
              "            (0): Conv2d(64, 64, kernel_size=(3, 3), stride=(2, 2), padding=(1, 1), groups=64, bias=False)\n",
              "            (1): BatchNorm2d(64, eps=1e-05, momentum=0.1, affine=True, track_running_stats=True)\n",
              "          )\n",
              "          (squeeze_excitation): Sequential(\n",
              "            (0): AdaptiveAvgPool2d(output_size=1)\n",
              "            (1): Conv2d(64, 16, kernel_size=(1, 1), stride=(1, 1))\n",
              "            (2): ReLU()\n",
              "            (3): Conv2d(16, 64, kernel_size=(1, 1), stride=(1, 1))\n",
              "            (4): Hardswish()\n",
              "          )\n",
              "          (pointwise_conv): Sequential(\n",
              "            (0): Conv2d(64, 24, kernel_size=(1, 1), stride=(1, 1), bias=False)\n",
              "            (1): BatchNorm2d(24, eps=1e-05, momentum=0.1, affine=True, track_running_stats=True)\n",
              "          )\n",
              "        )\n",
              "        (1): MobileBottleNeck(\n",
              "          (standard_conv): Sequential(\n",
              "            (0): Conv2d(24, 72, kernel_size=(1, 1), stride=(1, 1), bias=False)\n",
              "            (1): BatchNorm2d(72, eps=1e-05, momentum=0.1, affine=True, track_running_stats=True)\n",
              "            (2): ReLU()\n",
              "          )\n",
              "          (depthwise_conv): Sequential(\n",
              "            (0): Conv2d(72, 72, kernel_size=(3, 3), stride=(1, 1), padding=(1, 1), groups=72, bias=False)\n",
              "            (1): BatchNorm2d(72, eps=1e-05, momentum=0.1, affine=True, track_running_stats=True)\n",
              "          )\n",
              "          (squeeze_excitation): Sequential(\n",
              "            (0): AdaptiveAvgPool2d(output_size=1)\n",
              "            (1): Conv2d(72, 24, kernel_size=(1, 1), stride=(1, 1))\n",
              "            (2): ReLU()\n",
              "            (3): Conv2d(24, 72, kernel_size=(1, 1), stride=(1, 1))\n",
              "            (4): Hardswish()\n",
              "          )\n",
              "          (pointwise_conv): Sequential(\n",
              "            (0): Conv2d(72, 24, kernel_size=(1, 1), stride=(1, 1), bias=False)\n",
              "            (1): BatchNorm2d(24, eps=1e-05, momentum=0.1, affine=True, track_running_stats=True)\n",
              "          )\n",
              "        )\n",
              "      )\n",
              "      (bottleneck3): Sequential(\n",
              "        (0): MobileBottleNeck(\n",
              "          (standard_conv): Sequential(\n",
              "            (0): Conv2d(24, 72, kernel_size=(1, 1), stride=(1, 1), bias=False)\n",
              "            (1): BatchNorm2d(72, eps=1e-05, momentum=0.1, affine=True, track_running_stats=True)\n",
              "            (2): ReLU()\n",
              "          )\n",
              "          (depthwise_conv): Sequential(\n",
              "            (0): Conv2d(72, 72, kernel_size=(5, 5), stride=(2, 2), padding=(2, 2), groups=72, bias=False)\n",
              "            (1): BatchNorm2d(72, eps=1e-05, momentum=0.1, affine=True, track_running_stats=True)\n",
              "          )\n",
              "          (squeeze_excitation): Sequential(\n",
              "            (0): AdaptiveAvgPool2d(output_size=1)\n",
              "            (1): Conv2d(72, 24, kernel_size=(1, 1), stride=(1, 1))\n",
              "            (2): ReLU()\n",
              "            (3): Conv2d(24, 72, kernel_size=(1, 1), stride=(1, 1))\n",
              "            (4): Hardswish()\n",
              "          )\n",
              "          (pointwise_conv): Sequential(\n",
              "            (0): Conv2d(72, 40, kernel_size=(1, 1), stride=(1, 1), bias=False)\n",
              "            (1): BatchNorm2d(40, eps=1e-05, momentum=0.1, affine=True, track_running_stats=True)\n",
              "          )\n",
              "        )\n",
              "        (1): MobileBottleNeck(\n",
              "          (standard_conv): Sequential(\n",
              "            (0): Conv2d(40, 120, kernel_size=(1, 1), stride=(1, 1), bias=False)\n",
              "            (1): BatchNorm2d(120, eps=1e-05, momentum=0.1, affine=True, track_running_stats=True)\n",
              "            (2): ReLU()\n",
              "          )\n",
              "          (depthwise_conv): Sequential(\n",
              "            (0): Conv2d(120, 120, kernel_size=(5, 5), stride=(1, 1), padding=(2, 2), groups=120, bias=False)\n",
              "            (1): BatchNorm2d(120, eps=1e-05, momentum=0.1, affine=True, track_running_stats=True)\n",
              "          )\n",
              "          (squeeze_excitation): Sequential(\n",
              "            (0): AdaptiveAvgPool2d(output_size=1)\n",
              "            (1): Conv2d(120, 40, kernel_size=(1, 1), stride=(1, 1))\n",
              "            (2): ReLU()\n",
              "            (3): Conv2d(40, 120, kernel_size=(1, 1), stride=(1, 1))\n",
              "            (4): Hardswish()\n",
              "          )\n",
              "          (pointwise_conv): Sequential(\n",
              "            (0): Conv2d(120, 40, kernel_size=(1, 1), stride=(1, 1), bias=False)\n",
              "            (1): BatchNorm2d(40, eps=1e-05, momentum=0.1, affine=True, track_running_stats=True)\n",
              "          )\n",
              "        )\n",
              "        (2): MobileBottleNeck(\n",
              "          (standard_conv): Sequential(\n",
              "            (0): Conv2d(40, 120, kernel_size=(1, 1), stride=(1, 1), bias=False)\n",
              "            (1): BatchNorm2d(120, eps=1e-05, momentum=0.1, affine=True, track_running_stats=True)\n",
              "            (2): ReLU()\n",
              "          )\n",
              "          (depthwise_conv): Sequential(\n",
              "            (0): Conv2d(120, 120, kernel_size=(5, 5), stride=(1, 1), padding=(2, 2), groups=120, bias=False)\n",
              "            (1): BatchNorm2d(120, eps=1e-05, momentum=0.1, affine=True, track_running_stats=True)\n",
              "          )\n",
              "          (squeeze_excitation): Sequential(\n",
              "            (0): AdaptiveAvgPool2d(output_size=1)\n",
              "            (1): Conv2d(120, 40, kernel_size=(1, 1), stride=(1, 1))\n",
              "            (2): ReLU()\n",
              "            (3): Conv2d(40, 120, kernel_size=(1, 1), stride=(1, 1))\n",
              "            (4): Hardswish()\n",
              "          )\n",
              "          (pointwise_conv): Sequential(\n",
              "            (0): Conv2d(120, 40, kernel_size=(1, 1), stride=(1, 1), bias=False)\n",
              "            (1): BatchNorm2d(40, eps=1e-05, momentum=0.1, affine=True, track_running_stats=True)\n",
              "          )\n",
              "        )\n",
              "      )\n",
              "      (bottleneck4): Sequential(\n",
              "        (0): MobileBottleNeck(\n",
              "          (standard_conv): Sequential(\n",
              "            (0): Conv2d(40, 240, kernel_size=(1, 1), stride=(1, 1), bias=False)\n",
              "            (1): BatchNorm2d(240, eps=1e-05, momentum=0.1, affine=True, track_running_stats=True)\n",
              "            (2): Hardswish()\n",
              "          )\n",
              "          (depthwise_conv): Sequential(\n",
              "            (0): Conv2d(240, 240, kernel_size=(3, 3), stride=(2, 2), padding=(1, 1), groups=240, bias=False)\n",
              "            (1): BatchNorm2d(240, eps=1e-05, momentum=0.1, affine=True, track_running_stats=True)\n",
              "          )\n",
              "          (squeeze_excitation): Sequential(\n",
              "            (0): AdaptiveAvgPool2d(output_size=1)\n",
              "            (1): Conv2d(240, 40, kernel_size=(1, 1), stride=(1, 1))\n",
              "            (2): ReLU()\n",
              "            (3): Conv2d(40, 240, kernel_size=(1, 1), stride=(1, 1))\n",
              "            (4): Hardswish()\n",
              "          )\n",
              "          (pointwise_conv): Sequential(\n",
              "            (0): Conv2d(240, 80, kernel_size=(1, 1), stride=(1, 1), bias=False)\n",
              "            (1): BatchNorm2d(80, eps=1e-05, momentum=0.1, affine=True, track_running_stats=True)\n",
              "          )\n",
              "        )\n",
              "        (1): MobileBottleNeck(\n",
              "          (standard_conv): Sequential(\n",
              "            (0): Conv2d(80, 200, kernel_size=(1, 1), stride=(1, 1), bias=False)\n",
              "            (1): BatchNorm2d(200, eps=1e-05, momentum=0.1, affine=True, track_running_stats=True)\n",
              "            (2): Hardswish()\n",
              "          )\n",
              "          (depthwise_conv): Sequential(\n",
              "            (0): Conv2d(200, 200, kernel_size=(3, 3), stride=(1, 1), padding=(1, 1), groups=200, bias=False)\n",
              "            (1): BatchNorm2d(200, eps=1e-05, momentum=0.1, affine=True, track_running_stats=True)\n",
              "          )\n",
              "          (squeeze_excitation): Sequential(\n",
              "            (0): AdaptiveAvgPool2d(output_size=1)\n",
              "            (1): Conv2d(200, 80, kernel_size=(1, 1), stride=(1, 1))\n",
              "            (2): ReLU()\n",
              "            (3): Conv2d(80, 200, kernel_size=(1, 1), stride=(1, 1))\n",
              "            (4): Hardswish()\n",
              "          )\n",
              "          (pointwise_conv): Sequential(\n",
              "            (0): Conv2d(200, 80, kernel_size=(1, 1), stride=(1, 1), bias=False)\n",
              "            (1): BatchNorm2d(80, eps=1e-05, momentum=0.1, affine=True, track_running_stats=True)\n",
              "          )\n",
              "        )\n",
              "        (2): MobileBottleNeck(\n",
              "          (standard_conv): Sequential(\n",
              "            (0): Conv2d(80, 184, kernel_size=(1, 1), stride=(1, 1), bias=False)\n",
              "            (1): BatchNorm2d(184, eps=1e-05, momentum=0.1, affine=True, track_running_stats=True)\n",
              "            (2): Hardswish()\n",
              "          )\n",
              "          (depthwise_conv): Sequential(\n",
              "            (0): Conv2d(184, 184, kernel_size=(3, 3), stride=(1, 1), padding=(1, 1), groups=184, bias=False)\n",
              "            (1): BatchNorm2d(184, eps=1e-05, momentum=0.1, affine=True, track_running_stats=True)\n",
              "          )\n",
              "          (squeeze_excitation): Sequential(\n",
              "            (0): AdaptiveAvgPool2d(output_size=1)\n",
              "            (1): Conv2d(184, 80, kernel_size=(1, 1), stride=(1, 1))\n",
              "            (2): ReLU()\n",
              "            (3): Conv2d(80, 184, kernel_size=(1, 1), stride=(1, 1))\n",
              "            (4): Hardswish()\n",
              "          )\n",
              "          (pointwise_conv): Sequential(\n",
              "            (0): Conv2d(184, 80, kernel_size=(1, 1), stride=(1, 1), bias=False)\n",
              "            (1): BatchNorm2d(80, eps=1e-05, momentum=0.1, affine=True, track_running_stats=True)\n",
              "          )\n",
              "        )\n",
              "        (3): MobileBottleNeck(\n",
              "          (standard_conv): Sequential(\n",
              "            (0): Conv2d(80, 184, kernel_size=(1, 1), stride=(1, 1), bias=False)\n",
              "            (1): BatchNorm2d(184, eps=1e-05, momentum=0.1, affine=True, track_running_stats=True)\n",
              "            (2): Hardswish()\n",
              "          )\n",
              "          (depthwise_conv): Sequential(\n",
              "            (0): Conv2d(184, 184, kernel_size=(3, 3), stride=(1, 1), padding=(1, 1), groups=184, bias=False)\n",
              "            (1): BatchNorm2d(184, eps=1e-05, momentum=0.1, affine=True, track_running_stats=True)\n",
              "          )\n",
              "          (squeeze_excitation): Sequential(\n",
              "            (0): AdaptiveAvgPool2d(output_size=1)\n",
              "            (1): Conv2d(184, 80, kernel_size=(1, 1), stride=(1, 1))\n",
              "            (2): ReLU()\n",
              "            (3): Conv2d(80, 184, kernel_size=(1, 1), stride=(1, 1))\n",
              "            (4): Hardswish()\n",
              "          )\n",
              "          (pointwise_conv): Sequential(\n",
              "            (0): Conv2d(184, 80, kernel_size=(1, 1), stride=(1, 1), bias=False)\n",
              "            (1): BatchNorm2d(80, eps=1e-05, momentum=0.1, affine=True, track_running_stats=True)\n",
              "          )\n",
              "        )\n",
              "        (4): MobileBottleNeck(\n",
              "          (standard_conv): Sequential(\n",
              "            (0): Conv2d(80, 480, kernel_size=(1, 1), stride=(1, 1), bias=False)\n",
              "            (1): BatchNorm2d(480, eps=1e-05, momentum=0.1, affine=True, track_running_stats=True)\n",
              "            (2): Hardswish()\n",
              "          )\n",
              "          (depthwise_conv): Sequential(\n",
              "            (0): Conv2d(480, 480, kernel_size=(3, 3), stride=(1, 1), padding=(1, 1), groups=480, bias=False)\n",
              "            (1): BatchNorm2d(480, eps=1e-05, momentum=0.1, affine=True, track_running_stats=True)\n",
              "          )\n",
              "          (squeeze_excitation): Sequential(\n",
              "            (0): AdaptiveAvgPool2d(output_size=1)\n",
              "            (1): Conv2d(480, 80, kernel_size=(1, 1), stride=(1, 1))\n",
              "            (2): ReLU()\n",
              "            (3): Conv2d(80, 480, kernel_size=(1, 1), stride=(1, 1))\n",
              "            (4): Hardswish()\n",
              "          )\n",
              "          (pointwise_conv): Sequential(\n",
              "            (0): Conv2d(480, 112, kernel_size=(1, 1), stride=(1, 1), bias=False)\n",
              "            (1): BatchNorm2d(112, eps=1e-05, momentum=0.1, affine=True, track_running_stats=True)\n",
              "          )\n",
              "        )\n",
              "        (5): MobileBottleNeck(\n",
              "          (standard_conv): Sequential(\n",
              "            (0): Conv2d(112, 672, kernel_size=(1, 1), stride=(1, 1), bias=False)\n",
              "            (1): BatchNorm2d(672, eps=1e-05, momentum=0.1, affine=True, track_running_stats=True)\n",
              "            (2): Hardswish()\n",
              "          )\n",
              "          (depthwise_conv): Sequential(\n",
              "            (0): Conv2d(672, 672, kernel_size=(3, 3), stride=(1, 1), padding=(1, 1), groups=672, bias=False)\n",
              "            (1): BatchNorm2d(672, eps=1e-05, momentum=0.1, affine=True, track_running_stats=True)\n",
              "          )\n",
              "          (squeeze_excitation): Sequential(\n",
              "            (0): AdaptiveAvgPool2d(output_size=1)\n",
              "            (1): Conv2d(672, 112, kernel_size=(1, 1), stride=(1, 1))\n",
              "            (2): ReLU()\n",
              "            (3): Conv2d(112, 672, kernel_size=(1, 1), stride=(1, 1))\n",
              "            (4): Hardswish()\n",
              "          )\n",
              "          (pointwise_conv): Sequential(\n",
              "            (0): Conv2d(672, 160, kernel_size=(1, 1), stride=(1, 1), bias=False)\n",
              "            (1): BatchNorm2d(160, eps=1e-05, momentum=0.1, affine=True, track_running_stats=True)\n",
              "          )\n",
              "        )\n",
              "        (6): MobileBottleNeck(\n",
              "          (standard_conv): Sequential(\n",
              "            (0): Conv2d(160, 672, kernel_size=(1, 1), stride=(1, 1), bias=False)\n",
              "            (1): BatchNorm2d(672, eps=1e-05, momentum=0.1, affine=True, track_running_stats=True)\n",
              "            (2): Hardswish()\n",
              "          )\n",
              "          (depthwise_conv): Sequential(\n",
              "            (0): Conv2d(672, 672, kernel_size=(5, 5), stride=(1, 1), padding=(2, 2), groups=672, bias=False)\n",
              "            (1): BatchNorm2d(672, eps=1e-05, momentum=0.1, affine=True, track_running_stats=True)\n",
              "          )\n",
              "          (squeeze_excitation): Sequential(\n",
              "            (0): AdaptiveAvgPool2d(output_size=1)\n",
              "            (1): Conv2d(672, 160, kernel_size=(1, 1), stride=(1, 1))\n",
              "            (2): ReLU()\n",
              "            (3): Conv2d(160, 672, kernel_size=(1, 1), stride=(1, 1))\n",
              "            (4): Hardswish()\n",
              "          )\n",
              "          (pointwise_conv): Sequential(\n",
              "            (0): Conv2d(672, 160, kernel_size=(1, 1), stride=(1, 1), bias=False)\n",
              "            (1): BatchNorm2d(160, eps=1e-05, momentum=0.1, affine=True, track_running_stats=True)\n",
              "          )\n",
              "        )\n",
              "        (7): MobileBottleNeck(\n",
              "          (standard_conv): Sequential(\n",
              "            (0): Conv2d(160, 960, kernel_size=(1, 1), stride=(1, 1), bias=False)\n",
              "            (1): BatchNorm2d(960, eps=1e-05, momentum=0.1, affine=True, track_running_stats=True)\n",
              "            (2): Hardswish()\n",
              "          )\n",
              "          (depthwise_conv): Sequential(\n",
              "            (0): Conv2d(960, 960, kernel_size=(5, 5), stride=(1, 1), padding=(2, 2), groups=960, bias=False)\n",
              "            (1): BatchNorm2d(960, eps=1e-05, momentum=0.1, affine=True, track_running_stats=True)\n",
              "          )\n",
              "          (squeeze_excitation): Sequential(\n",
              "            (0): AdaptiveAvgPool2d(output_size=1)\n",
              "            (1): Conv2d(960, 160, kernel_size=(1, 1), stride=(1, 1))\n",
              "            (2): ReLU()\n",
              "            (3): Conv2d(160, 960, kernel_size=(1, 1), stride=(1, 1))\n",
              "            (4): Hardswish()\n",
              "          )\n",
              "          (pointwise_conv): Sequential(\n",
              "            (0): Conv2d(960, 160, kernel_size=(1, 1), stride=(1, 1), bias=False)\n",
              "            (1): BatchNorm2d(160, eps=1e-05, momentum=0.1, affine=True, track_running_stats=True)\n",
              "          )\n",
              "        )\n",
              "        (8): MobileBottleNeck(\n",
              "          (standard_conv): Sequential(\n",
              "            (0): Conv2d(160, 960, kernel_size=(1, 1), stride=(1, 1), bias=False)\n",
              "            (1): BatchNorm2d(960, eps=1e-05, momentum=0.1, affine=True, track_running_stats=True)\n",
              "            (2): Hardswish()\n",
              "          )\n",
              "          (depthwise_conv): Sequential(\n",
              "            (0): Conv2d(960, 960, kernel_size=(5, 5), stride=(1, 1), padding=(2, 2), groups=960, bias=False)\n",
              "            (1): BatchNorm2d(960, eps=1e-05, momentum=0.1, affine=True, track_running_stats=True)\n",
              "          )\n",
              "          (squeeze_excitation): Sequential(\n",
              "            (0): AdaptiveAvgPool2d(output_size=1)\n",
              "            (1): Conv2d(960, 160, kernel_size=(1, 1), stride=(1, 1))\n",
              "            (2): ReLU()\n",
              "            (3): Conv2d(160, 960, kernel_size=(1, 1), stride=(1, 1))\n",
              "            (4): Hardswish()\n",
              "          )\n",
              "          (pointwise_conv): Sequential(\n",
              "            (0): Conv2d(960, 160, kernel_size=(1, 1), stride=(1, 1), bias=False)\n",
              "            (1): BatchNorm2d(160, eps=1e-05, momentum=0.1, affine=True, track_running_stats=True)\n",
              "          )\n",
              "        )\n",
              "      )\n",
              "    )\n",
              "    (aspp): ASPP(\n",
              "      (standard_conv): Sequential(\n",
              "        (0): Conv2d(160, 256, kernel_size=(1, 1), stride=(1, 1), bias=False)\n",
              "        (1): BatchNorm2d(256, eps=1e-05, momentum=0.1, affine=True, track_running_stats=True)\n",
              "        (2): ReLU()\n",
              "      )\n",
              "      (atrous_conv_1): Sequential(\n",
              "        (0): Conv2d(160, 256, kernel_size=(3, 3), stride=(1, 1), padding=(6, 6), dilation=(6, 6), bias=False)\n",
              "        (1): BatchNorm2d(256, eps=1e-05, momentum=0.1, affine=True, track_running_stats=True)\n",
              "        (2): ReLU()\n",
              "      )\n",
              "      (atrous_conv_2): Sequential(\n",
              "        (0): Conv2d(160, 256, kernel_size=(3, 3), stride=(1, 1), padding=(12, 12), dilation=(12, 12), bias=False)\n",
              "        (1): BatchNorm2d(256, eps=1e-05, momentum=0.1, affine=True, track_running_stats=True)\n",
              "        (2): ReLU()\n",
              "      )\n",
              "      (atrous_conv_3): Sequential(\n",
              "        (0): Conv2d(160, 256, kernel_size=(3, 3), stride=(1, 1), padding=(18, 18), dilation=(18, 18), bias=False)\n",
              "        (1): BatchNorm2d(256, eps=1e-05, momentum=0.1, affine=True, track_running_stats=True)\n",
              "        (2): ReLU()\n",
              "      )\n",
              "      (image_pooling): Sequential(\n",
              "        (0): AdaptiveAvgPool2d(output_size=1)\n",
              "        (1): Conv2d(160, 256, kernel_size=(1, 1), stride=(1, 1), bias=False)\n",
              "        (2): BatchNorm2d(256, eps=1e-05, momentum=0.1, affine=True, track_running_stats=True)\n",
              "        (3): ReLU()\n",
              "      )\n",
              "      (final_conv): Sequential(\n",
              "        (0): Conv2d(1280, 256, kernel_size=(1, 1), stride=(1, 1), bias=False)\n",
              "        (1): BatchNorm2d(256, eps=1e-05, momentum=0.1, affine=True, track_running_stats=True)\n",
              "        (2): ReLU()\n",
              "        (3): Dropout(p=0.1, inplace=False)\n",
              "      )\n",
              "    )\n",
              "  )\n",
              "  (decoder): Decoder(\n",
              "    (conv_f1): Sequential(\n",
              "      (0): Conv2d(16, 256, kernel_size=(1, 1), stride=(1, 1), bias=False)\n",
              "      (1): BatchNorm2d(256, eps=1e-05, momentum=0.1, affine=True, track_running_stats=True)\n",
              "      (2): ReLU()\n",
              "    )\n",
              "    (conv_f2): Sequential(\n",
              "      (0): Conv2d(24, 256, kernel_size=(1, 1), stride=(1, 1), bias=False)\n",
              "      (1): BatchNorm2d(256, eps=1e-05, momentum=0.1, affine=True, track_running_stats=True)\n",
              "      (2): ReLU()\n",
              "    )\n",
              "    (conv_f3): Sequential(\n",
              "      (0): Conv2d(40, 256, kernel_size=(1, 1), stride=(1, 1), bias=False)\n",
              "      (1): BatchNorm2d(256, eps=1e-05, momentum=0.1, affine=True, track_running_stats=True)\n",
              "      (2): ReLU()\n",
              "    )\n",
              "    (upsample_f1): Upsample(size=(128, 128), mode=bilinear)\n",
              "    (upsample_f3): Upsample(size=(128, 128), mode=bilinear)\n",
              "    (upsample_f4): Upsample(size=(128, 128), mode=bilinear)\n",
              "    (final_conv): Sequential(\n",
              "      (0): Conv2d(1024, 256, kernel_size=(3, 3), stride=(1, 1), bias=False)\n",
              "      (1): BatchNorm2d(256, eps=1e-05, momentum=0.1, affine=True, track_running_stats=True)\n",
              "      (2): ReLU()\n",
              "      (3): Conv2d(256, 2, kernel_size=(1, 1), stride=(1, 1))\n",
              "    )\n",
              "    (final_upsample): Upsample(size=(512, 512), mode=bilinear)\n",
              "  )\n",
              ")"
            ]
          },
          "metadata": {},
          "execution_count": 113
        }
      ]
    },
    {
      "cell_type": "code",
      "execution_count": 114,
      "metadata": {
        "id": "hKf6PUd0Sbun"
      },
      "outputs": [],
      "source": [
        "# res = model(torch.tensor(images[0:2], device='cuda', dtype=torch.float32).permute(0,3,1,2))"
      ]
    },
    {
      "cell_type": "code",
      "execution_count": 115,
      "metadata": {
        "id": "lWZiNYHVSbun"
      },
      "outputs": [],
      "source": [
        "# res.shape"
      ]
    },
    {
      "cell_type": "markdown",
      "source": [
        "## Test model DeepLabv3\n"
      ],
      "metadata": {
        "id": "1lLQMMn56HOj"
      }
    },
    {
      "cell_type": "code",
      "source": [
        "class DeepLab(nn.Module):\n",
        "    def __init__(self):\n",
        "        super().__init__()\n",
        "        self.model = torch.hub.load('pytorch/vision:v0.10.0', 'deeplabv3_resnet50', pretrained=False)\n",
        "\n",
        "        self.final_conv = nn.Sequential(\n",
        "            nn.Conv2d(21, 1, kernel_size=1, bias=False),\n",
        "        )\n",
        "\n",
        "    def forward(self, x):\n",
        "        out = self.model(x)['out']\n",
        "        out = self.final_conv(out)\n",
        "        return out"
      ],
      "metadata": {
        "id": "EmVtj2g0Q0Mz"
      },
      "execution_count": null,
      "outputs": []
    },
    {
      "cell_type": "code",
      "source": [
        "model = DeepLab()"
      ],
      "metadata": {
        "colab": {
          "base_uri": "https://localhost:8080/",
          "height": 180,
          "referenced_widgets": [
            "c92c9e6a3fbd40aabcc9d572b6153255",
            "c5630a37a19f4994a02a6eea16c6dac6",
            "1fe2f33d0c7c4371a6423fa8be787e2b",
            "ef98231c50f84dd4a8bfd6c618d06faa",
            "8ec0433c6f674746a55e78b2250a714b",
            "eabb8eb758e044efbdcf9117197ad247",
            "716d9f1abeb94e7f85bd0eb79d73dafa",
            "b036a1e0ee03440f9a4827c1a18124e2",
            "e8f43e5c59a3443a928c4f62509327e2",
            "08556260f1c8419ca4a706efc0cebb04",
            "147dfa2aaa234ff39ad83e8f0e61a3e1"
          ]
        },
        "id": "0gTXSfBEM5hN",
        "outputId": "50854278-2dd4-4d5a-dd08-26c7b0f8bb7a"
      },
      "execution_count": null,
      "outputs": [
        {
          "output_type": "stream",
          "name": "stderr",
          "text": [
            "Downloading: \"https://github.com/pytorch/vision/zipball/v0.10.0\" to /root/.cache/torch/hub/v0.10.0.zip\n",
            "/usr/local/lib/python3.9/dist-packages/torchvision/models/_utils.py:208: UserWarning: The parameter 'pretrained' is deprecated since 0.13 and may be removed in the future, please use 'weights' instead.\n",
            "  warnings.warn(\n",
            "/usr/local/lib/python3.9/dist-packages/torchvision/models/_utils.py:223: UserWarning: Arguments other than a weight enum or `None` for 'weights' are deprecated since 0.13 and may be removed in the future. The current behavior is equivalent to passing `weights=None`.\n",
            "  warnings.warn(msg)\n",
            "Downloading: \"https://download.pytorch.org/models/resnet50-0676ba61.pth\" to /root/.cache/torch/hub/checkpoints/resnet50-0676ba61.pth\n"
          ]
        },
        {
          "output_type": "display_data",
          "data": {
            "text/plain": [
              "  0%|          | 0.00/97.8M [00:00<?, ?B/s]"
            ],
            "application/vnd.jupyter.widget-view+json": {
              "version_major": 2,
              "version_minor": 0,
              "model_id": "c92c9e6a3fbd40aabcc9d572b6153255"
            }
          },
          "metadata": {}
        }
      ]
    },
    {
      "cell_type": "markdown",
      "source": [
        "## Dataset\n"
      ],
      "metadata": {
        "id": "YOA-Sj8i1-wd"
      }
    },
    {
      "cell_type": "code",
      "execution_count": 70,
      "metadata": {
        "id": "4DhbHLgCSbun"
      },
      "outputs": [],
      "source": [
        "from typing import Tuple\n",
        "from torch.utils.data.dataloader import Dataset, DataLoader, Optional\n",
        "from torchvision.transforms import  Compose, ToTensor, RandomResizedCrop, RandomAffine, ColorJitter, RandomHorizontalFlip, RandomPerspective\n",
        "\n",
        "transform_image_and_mask = Compose([\n",
        "    # RandomResizedCrop(IMAGE_RESIZE, scale=(0.7, 1.)),\n",
        "    RandomPerspective(distortion_scale=.3),\n",
        "    RandomHorizontalFlip(),\n",
        "    RandomAffine(degrees=(-45, 45), translate=(0.1, 0.1), scale=(0.8, 1.2))\n",
        "    ])\n",
        "\n",
        "transform_image = ColorJitter(brightness=.4, hue=.05)\n",
        "\n",
        "class FireDetectionDataset(Dataset):\n",
        "    def __init__(self, x: np.ndarray, y: np.ndarray, \n",
        "                 transform_image_and_mask: Optional[Compose] = None,\n",
        "                 transform_image: Optional[ColorJitter] = None) -> None:\n",
        "        super().__init__()\n",
        "        assert x.shape[:-1] == y.shape\n",
        "        self.x = x\n",
        "        self.y = y\n",
        "        self.len = x.shape[0]\n",
        "        self.transform_image_and_mask = transform_image_and_mask\n",
        "        self.transform_image = transform_image\n",
        "        self.to_tensor = ToTensor()\n",
        "    \n",
        "    def __getitem__(self, index: int) -> Tuple[torch.FloatTensor, torch.FloatTensor]:\n",
        "        x = self.x[index]\n",
        "        y = self.y[index]\n",
        "\n",
        "        x = self.to_tensor(x)\n",
        "        y[y==1] = 255\n",
        "        y = self.to_tensor(y)\n",
        "\n",
        "        if self.transform_image_and_mask is not None:\n",
        "            y = y.expand_as(x)\n",
        "            x_y = torch.cat([x.unsqueeze(0), y.unsqueeze(0)], dim=0)\n",
        "            x_y = self.transform_image_and_mask(x_y)\n",
        "            x, y = x_y[0], x_y[1]\n",
        "            y = y[:1]\n",
        "        if self.transform_image is not None:\n",
        "            x = self.transform_image(x)\n",
        "\n",
        "        y_b = (~y.bool()).float()\n",
        "        y = torch.cat([y_b, y], dim=0)\n",
        "        return x, y\n",
        "    \n",
        "    def __len__(self) -> int:\n",
        "        return self.len\n",
        "    \n"
      ]
    },
    {
      "cell_type": "code",
      "source": [
        "\"\"\"x, y = images[50], masks[50]\n",
        "\n",
        "x = ToTensor()(x)\n",
        "y[y==1] = 255\n",
        "y = ToTensor()(y)\n",
        "\n",
        "y = y.expand_as(x)\n",
        "\n",
        "x_y = torch.cat([x.unsqueeze(0), y.unsqueeze(0)], dim=0)\n",
        "\n",
        "x_y = transform_image_and_mask(x_y)\n",
        "x, y = x_y[0], x_y[1]\n",
        "\n",
        "y = y[:1]\n",
        "\n",
        "# y = y.bool().float()\n",
        "\n",
        "x = transform_image(x)\n",
        "#print('x', x)\n",
        "#print('y', y)\n",
        "\n",
        "plt.imshow(cv2.cvtColor(x.permute(1,2,0).cpu().numpy(), cv2.COLOR_BGR2RGB))\n",
        "plt.show()\n",
        "plt.imshow(y.permute(1,2,0).cpu().numpy()[..., 0], cmap='gray', vmin=0., vmax=1.)\n",
        "plt.show()\n",
        "plt.imshow(cv2.cvtColor(images[50], cv2.COLOR_BGR2RGB))\n",
        "plt.show()\n",
        "plt.imshow(masks[50], cmap='gray', vmin=0., vmax=1.)\n",
        "plt.show()\"\"\";"
      ],
      "metadata": {
        "id": "66KAbweEddsr"
      },
      "execution_count": 71,
      "outputs": []
    },
    {
      "cell_type": "code",
      "execution_count": 116,
      "metadata": {
        "id": "gmRPD4NjSbuo"
      },
      "outputs": [],
      "source": [
        "TRAIN_BATCH_SIZE = 2\n",
        "EVAL_BATCH_SIZE = 4\n",
        "\n",
        "train_loader = DataLoader(FireDetectionDataset(X_train, y_train, transform_image_and_mask, transform_image),\n",
        "                          batch_size=TRAIN_BATCH_SIZE, shuffle=True, drop_last=True)\n",
        "\n",
        "val_loader = DataLoader(FireDetectionDataset(X_val, y_val),\n",
        "                          batch_size=EVAL_BATCH_SIZE, shuffle=False)\n",
        "\n",
        "test_loader = DataLoader(FireDetectionDataset(X_test, y_test),\n",
        "                          batch_size=EVAL_BATCH_SIZE, shuffle=False, drop_last=True)"
      ]
    },
    {
      "cell_type": "markdown",
      "source": [
        "## Loss, Optimizer, Scheduler"
      ],
      "metadata": {
        "id": "jv6JmR3z2CLz"
      }
    },
    {
      "cell_type": "code",
      "execution_count": 117,
      "metadata": {
        "id": "6_a3Iw7LSbuo"
      },
      "outputs": [],
      "source": [
        "from torch.optim import SGD, Adam\n",
        "from torch.optim.lr_scheduler import StepLR, ReduceLROnPlateau\n",
        "\n",
        "#optimizer = SGD(model.parameters(), lr=1e-4, nesterov=True, weight_decay=0.0001, momentum=.9)\n",
        "optimizer = Adam(model.parameters(), lr=1e-3)#, nesterov=True, weight_decay=0.0001, momentum=.9)\n",
        "step_lr_scheduler = StepLR(optimizer, gamma=.94, step_size=1)\n",
        "plateau_lr_scheduler = ReduceLROnPlateau(optimizer, factor=.98, patience=300, threshold=1e-6)\n",
        "\n",
        "lr_schedulers=[step_lr_scheduler, plateau_lr_scheduler]"
      ]
    },
    {
      "cell_type": "code",
      "execution_count": null,
      "metadata": {
        "id": "m6mavB4BSbuo"
      },
      "outputs": [],
      "source": [
        "import torch.nn as nn\n",
        "import torch.nn.functional as F\n",
        "import torch \n",
        "\n",
        "class FocalLoss(nn.Module):\n",
        "    def __init__(self, gamma=.5):\n",
        "        super().__init__()\n",
        "        self.gamma = gamma\n",
        "\n",
        "    def forward(self, logits, targets):\n",
        "        pt = F.binary_cross_entropy_with_logits(\n",
        "            logits, targets, reduction='none')\n",
        "        #pt = torch.exp(-ce_loss)\n",
        "        focal_loss = - (1 - pt)**self.gamma * torch.log(pt)\n",
        "        return focal_loss.mean()"
      ]
    },
    {
      "cell_type": "code",
      "source": [
        "class FocalLossDeepLab(nn.Module):\n",
        "    def __init__(self, alpha=0.25, gamma=2):\n",
        "        super().__init__()\n",
        "        self.alpha = alpha\n",
        "        self.gamma = gamma\n",
        "\n",
        "    def forward(self, inputs, targets):\n",
        "        ce_loss = F.binary_cross_entropy_with_logits(\n",
        "            inputs, targets, reduction='none')\n",
        "        pt = torch.exp(-ce_loss)\n",
        "        focal_loss = self.alpha * (1-pt)**self.gamma * ce_loss\n",
        "        if focal_loss.mean().isnan():\n",
        "            print(ce_loss)\n",
        "        return focal_loss.mean()"
      ],
      "metadata": {
        "id": "kV6_Hq2sGL7U"
      },
      "execution_count": 118,
      "outputs": []
    },
    {
      "cell_type": "code",
      "source": [
        "\"\"\"import torch.nn as nn\n",
        "import torch\n",
        "\n",
        "class SoftDiceLoss(nn.Module):\n",
        "    def __init__(self, p=1, smooth=1e-6):\n",
        "        super().__init__()\n",
        "        self.p = p\n",
        "        self.smooth = smooth\n",
        "\n",
        "    def forward(self, logits, targets):\n",
        "        probs = torch.sigmoid(logits)\n",
        "        # probs = logits\n",
        "        numer = (probs * targets).sum((-2, -1))\n",
        "        denor = (probs.pow(self.p).sum((-2, -1)) + targets.pow(self.p).sum((-2, -1)))\n",
        "        loss = 1 - (2 * numer + self.smooth) / (denor + self.smooth)\n",
        "        return torch.mean(loss)\"\"\";"
      ],
      "metadata": {
        "id": "Z8zUmxn1SWYB"
      },
      "execution_count": null,
      "outputs": []
    },
    {
      "cell_type": "code",
      "source": [
        "\"\"\"y_pred = torch.tensor(masks[0:5])#torch.tensor([[0,1],[0,1]])\n",
        "y_true = torch.tensor(masks[0:5])#torch.tensor([[1,1],[1,1]])\n",
        "mpa = SoftDiceLoss()\n",
        "mpa(y_pred, y_true)\"\"\";"
      ],
      "metadata": {
        "id": "ViwwylyPWzYz"
      },
      "execution_count": null,
      "outputs": []
    },
    {
      "cell_type": "code",
      "source": [
        "\"\"\"mpa = MPA()\n",
        "mpa(y_pred[0:2], (~y_tArue.bool()).float())\"\"\";"
      ],
      "metadata": {
        "id": "jIJe_YnXIweH"
      },
      "execution_count": 31,
      "outputs": []
    },
    {
      "cell_type": "code",
      "source": [
        "\"\"\"_, y_true = next(iter(train_loader))\n",
        "_, y_pred = next(iter(test_loader))\n",
        "miou = MIoU()\n",
        "miou(y_pred[0:2], (~y_true.bool()).float())\"\"\";"
      ],
      "metadata": {
        "id": "TI3cQDSIHLTS"
      },
      "execution_count": 32,
      "outputs": []
    },
    {
      "cell_type": "code",
      "source": [
        "class MIoU(nn.Module):\n",
        "    def __init__(self, threshold=.5, smooth=1e-6):\n",
        "        super().__init__()\n",
        "        self.smooth = smooth\n",
        "        self.threshold = threshold\n",
        "\n",
        "    def forward(self, y_pred, y_true):\n",
        "        with torch.no_grad():\n",
        "            y_pred = y_pred.softmax(-3).argmax(-3)\n",
        "            y_true1 = y_true[:,1].bool()\n",
        "\n",
        "            intersection = (y_pred & y_true1).sum((-2, -1))\n",
        "            union = (y_pred | y_true1).sum((-2, -1))\n",
        "\n",
        "            iou1 = (intersection + self.smooth) / (union + self.smooth)\n",
        "\n",
        "            y_true2 = y_true[:,0].bool()\n",
        "            y_pred = ~y_pred.bool()\n",
        "\n",
        "            intersection = (y_pred & y_true2).sum((-2, -1))\n",
        "            union = (y_pred | y_true2).sum((-2, -1))\n",
        "\n",
        "            iou2 = (intersection + self.smooth) / (union + self.smooth)\n",
        "\n",
        "            iou = (iou1 + iou2) / 2\n",
        "            return torch.mean(iou)"
      ],
      "metadata": {
        "id": "BzKd4wvO8MLw"
      },
      "execution_count": 119,
      "outputs": []
    },
    {
      "cell_type": "code",
      "source": [
        "class MPA(nn.Module):\n",
        "    def __init__(self, threshold=.5, smooth=1e-6):\n",
        "        super().__init__()\n",
        "        self.threshold = threshold\n",
        "        self.smooth = smooth\n",
        "\n",
        "    def forward(self, y_pred, y_true):\n",
        "        with torch.no_grad():\n",
        "            y_pred = y_pred.softmax(-3).argmax(-3)\n",
        "            y_true1 = y_true[:,1].bool()\n",
        "\n",
        "            intersection = (y_pred & y_true1).sum((-2, -1))\n",
        "            # count total number of elements per image (pixel count)\n",
        "            total_pixels = (y_true1 > 0).sum((-2, -1))\n",
        "            mpa1 = (intersection + self.smooth) / (total_pixels + self.smooth)\n",
        "\n",
        "            y_true2 = y_true[:,0].bool()\n",
        "            y_pred = ~y_pred.bool()\n",
        "            intersection = (y_pred & y_true2).sum((-2, -1))\n",
        "            total_pixels = (y_true2 > 0).sum((-2, -1))\n",
        "\n",
        "            mpa2 = (intersection + self.smooth) / (total_pixels + self.smooth)\n",
        "\n",
        "            mpa = (mpa1 + mpa2) / 2\n",
        "\n",
        "\n",
        "            return torch.mean(mpa)"
      ],
      "metadata": {
        "id": "WLjijX63CWoW"
      },
      "execution_count": 120,
      "outputs": []
    },
    {
      "cell_type": "markdown",
      "source": [
        "## Training Loop"
      ],
      "metadata": {
        "id": "1orAjZxp2IPR"
      }
    },
    {
      "cell_type": "code",
      "execution_count": 121,
      "metadata": {
        "id": "_U6cWhYUSbuo"
      },
      "outputs": [],
      "source": [
        "import os\n",
        "from time import time\n",
        "from typing import Dict, Optional, Tuple\n",
        "import torch\n",
        "from torch import nn\n",
        "from torch.utils.data import DataLoader\n",
        "import numpy as np\n",
        "\n",
        "class Checkpoint():\n",
        "    \"\"\"Class to handle the checkpoints of a model.\"\"\"\n",
        "    def __init__(self, path: str, initial_error: float = float('inf')) -> None:\n",
        "        \"\"\"Initialize the checkpoint instance.\n",
        "        \n",
        "        Parameters\n",
        "        ----------\n",
        "        path : str\n",
        "            The checkpoint path.\n",
        "        initial_error : float, optional\n",
        "            The initial error value, by default inf.\n",
        "        \"\"\"\n",
        "        self.last_error = initial_error\n",
        "\n",
        "        self.path = path\n",
        "        os.makedirs(os.path.dirname(self.path), exist_ok=True)\n",
        "\n",
        "    def save_best(self, model: nn.Module, optimizer: torch.optim.Optimizer,\n",
        "                  new_error: float) -> None:\n",
        "        \"\"\"Possibly save the best model weights and optimizer state \n",
        "        in the checkpoint file according to the new value of the metric.\n",
        "        \n",
        "        Parameters defined in `kwargs` are also saved in the checkpoints\n",
        "        as an ndarray. \n",
        "        \n",
        "        Parameters\n",
        "        ----------\n",
        "        model : Module\n",
        "            The model which weights are saved.\n",
        "        optimizer : Optimizer\n",
        "            The optimizer which state is saved\n",
        "        new_error : float\n",
        "            The new error value which is compared to the best so far.\n",
        "            The checkpoints are updated solely if the new error is less.\n",
        "        \"\"\"\n",
        "        if new_error < self.last_error:\n",
        "            checkpoint = {}\n",
        "            checkpoint['model_state_dict'] = model.state_dict()\n",
        "            checkpoint['optimizer_state_dict'] = optimizer.state_dict()\n",
        "            checkpoint['best_error'] = new_error\n",
        "\n",
        "            torch.save(checkpoint, self.path)\n",
        "\n",
        "        self.last_error = new_error\n",
        "\n",
        "    def load_best_weights(self, model: nn.Module) -> None:\n",
        "        \"\"\"Load the best weights on a model.\n",
        "\n",
        "        Parameters\n",
        "        ----------\n",
        "        model : Module\n",
        "            The model for which the best weights are loaded.\n",
        "        \"\"\"\n",
        "        checkpoint = torch.load(self.path)\n",
        "        model.load_state_dict(checkpoint['model_state_dict'])\n",
        "\n",
        "def train(\n",
        "    model: FireSegmentationModel, optimizer: torch.optim.Optimizer,\n",
        "    lr_schedulers: Optional[object],\n",
        "    train_dataloader: DataLoader, val_dataloader: DataLoader,\n",
        "    epochs: int, device: str, checkpoint: Optional[Checkpoint] = None,\n",
        "    reload_best_weights: bool = True) -> Dict[str, np.ndarray]:\n",
        "    # Initialize loss functions.\n",
        "    # criterion = nn.BCEWithLogitsLoss()\n",
        "    criterion = FocalLossDeepLab()\n",
        "    mpa_metric = MPA()\n",
        "    miou_metric = MIoU()\n",
        "\n",
        "    # Initialize histories.\n",
        "    metrics = ['train_loss', 'train_mpa', 'train_miou', 'val_loss', 'val_mpa',\n",
        "               'val_miou']\n",
        "    history = { m: [] for m in metrics }\n",
        "\n",
        "    # Set model in training mode.\n",
        "    model.train()\n",
        "\n",
        "    # Iterate across the epochs.\n",
        "    for epoch in range(epochs):\n",
        "        print(f'Epoch {epoch + 1}/{epochs}')\n",
        "\n",
        "        # Remove unused tensors from gpu memory.\n",
        "        torch.cuda.empty_cache()\n",
        "\n",
        "        # Initialize running loss and errors.\n",
        "        running_train_loss = 0.\n",
        "        running_train_mpa = 0.\n",
        "        running_train_miou = 0.\n",
        "\n",
        "        start_time = time()\n",
        "\n",
        "        for batch_idx, data in enumerate(train_dataloader, 0):\n",
        "            # Increment the number of batch steps.\n",
        "            batch_steps = batch_idx + 1\n",
        "\n",
        "            # Get the data.\n",
        "            x, y = data\n",
        "            x = x.to(device=device)\n",
        "            y = y.to(device=device)\n",
        "\n",
        "            # Compute model predictions.\n",
        "            y_pred = model(x)\n",
        "            \n",
        "\n",
        "            # Compute the loss on the scaled results and ground truth.\n",
        "            loss = criterion(y_pred, y)\n",
        "            running_train_loss += loss.item()\n",
        "\n",
        "            # Zero the gradients.\n",
        "            optimizer.zero_grad()\n",
        "\n",
        "            # Compute errors and update running errors.\n",
        "            # TODO: add mpa miou\n",
        "            mpa = mpa_metric(y_pred, y)\n",
        "            miou = miou_metric(y_pred, y)\n",
        "\n",
        "            running_train_mpa += mpa.item()\n",
        "            running_train_miou += miou.item()\n",
        "\n",
        "            # Use the loss function for backpropagation.\n",
        "            loss.backward()\n",
        "\n",
        "            # Update the weights.\n",
        "            optimizer.step()\n",
        "            lr_schedulers[1].step(running_train_loss / batch_steps)\n",
        "\n",
        "            epoch_time = time() - start_time\n",
        "            batch_time = epoch_time / batch_steps\n",
        "\n",
        "            print(\n",
        "                f'[{batch_steps}/{len(train_dataloader)}] -',\n",
        "                f'{epoch_time:.0f}s {batch_time * 1e3:.0f}ms/step -',\n",
        "\n",
        "                f'train {{ loss: {running_train_loss / batch_steps:.3g} -',\n",
        "                f'MPA: {running_train_mpa * 100. / batch_steps:.3g}% -',\n",
        "                f'MiOU: {running_train_miou * 100. / batch_steps:.3g}% }} -',\n",
        "\n",
        "                f'lr: {optimizer.param_groups[0][\"lr\"]:.3g}',\n",
        "                '             ' if batch_steps < len(train_dataloader) else '',\n",
        "                )#end='\\r')\n",
        "\n",
        "        # Set the model in evaluation mode.\n",
        "        model.eval()\n",
        "\n",
        "        '''train_loss = running_train_loss / len(train_dataloader)\n",
        "        train_mae = running_train_mae / len(train_dataloader)\n",
        "        train_rmse = running_train_rmse / len(train_dataloader)\n",
        "        train_smape = running_train_mape / len(train_dataloader)\n",
        "\n",
        "        history['train_loss'].append(train_loss)\n",
        "        history['train_mae'].append(train_mae)\n",
        "        history['train_rmse'].append(train_rmse)\n",
        "        history['train_smape'].append(train_smape)\n",
        "\n",
        "        val_results = validate(model, val_dataloader, mae_function, \n",
        "                               rmse_function, mape_function, scaler, device)\n",
        "        val_loss, val_mae, val_rmse, val_smape = val_results\n",
        "\n",
        "        history['val_loss'].append(val_loss)\n",
        "        history['val_mae'].append(val_mae)\n",
        "        history['val_rmse'].append(val_rmse)\n",
        "        history['val_smape'].append(val_smape)'''\n",
        "\n",
        "        if checkpoint is not None:\n",
        "            pass\n",
        "            #err_sum = val_mae + val_rmse + val_smape\n",
        "            #checkpoint.save_best(model, optimizer, err_sum)\n",
        "\n",
        "        '''print(\n",
        "            f'[{len(train_dataloader)}/{len(train_dataloader)}] -',\n",
        "            f'{epoch_time:.0f}s -',\n",
        "\n",
        "            f'train: {{ loss: {train_loss:.3g} -',\n",
        "            f'MAE: {train_mae:.3g} -',\n",
        "            f'RMSE: {train_rmse:.3g} -',\n",
        "            f'sMAPE: {train_smape * 100.:.3g}% }} -',\n",
        "\n",
        "            f'val: {{ loss: {val_loss:.3g} -',\n",
        "            f'MAE: {val_mae:.3g} -',\n",
        "            f'RMSE: {val_rmse:.3g} -',\n",
        "            f'sMAPE: {val_smape * 100.:.3g}% }} -',\n",
        "\n",
        "            f'lr: {optimizer.param_groups[0][\"lr\"]:.3g} -',\n",
        "            f'weight decay: {optimizer.param_groups[0][\"weight_decay\"]}')'''\n",
        "\n",
        "        lr_schedulers[0].step()\n",
        "\n",
        "        # Set model in training mode.\n",
        "        model.train()\n",
        "\n",
        "    if checkpoint is not None and reload_best_weights:\n",
        "        checkpoint.load_best_weights(model)\n",
        "\n",
        "    model.eval()\n",
        "\n",
        "    # Remove unused tensors from gpu memory.\n",
        "    torch.cuda.empty_cache()\n",
        "\n",
        "    # Turn histories in ndarrays.\n",
        "    for k, v in history.items():\n",
        "        history[k] = np.array(v)\n",
        "\n",
        "    return history\n",
        "\n",
        "def validate(\n",
        "    model: nn.Module, val_dataloader: DataLoader, mae_function: nn.Module,\n",
        "    rmse_function: nn.Module, mape_function: nn.Module, scaler: object, device: str, \n",
        "    n_timestamps_to_predict: Optional[int] = None\n",
        "    ) -> Tuple[float, float, float, float]:\n",
        "    torch.cuda.empty_cache()\n",
        "\n",
        "    running_val_loss = 0.\n",
        "    running_val_mae = 0.\n",
        "    running_val_rmse = 0.\n",
        "    running_val_smape = 0.\n",
        "\n",
        "    with torch.no_grad():\n",
        "        for _, data in enumerate(val_dataloader, 0):\n",
        "            # Get the data.\n",
        "            x, y = data\n",
        "            x = scaler.scale(x)\n",
        "            x = x.type(torch.float32).to(device=device)\n",
        "            y = y.type(torch.float32).to(device=device)\n",
        "\n",
        "            # Compute output.\n",
        "            y_pred = model(x)\n",
        "            print(y_pred)\n",
        "\n",
        "            if n_timestamps_to_predict is not None:\n",
        "                y_pred = y_pred[:, : n_timestamps_to_predict]\n",
        "                y = y[:, : n_timestamps_to_predict]\n",
        "\n",
        "            loss = mae_function(y_pred, scaler.scale(y))\n",
        "            running_val_loss += loss.item()\n",
        "\n",
        "            y_pred = scaler.un_scale(y_pred)\n",
        "\n",
        "            # Loss\n",
        "            mae = mae_function(y_pred, y)\n",
        "            rmse = rmse_function(y_pred, y)\n",
        "            mape = mape_function(y_pred, y)\n",
        "            running_val_mae += mae.item()\n",
        "            running_val_rmse += rmse.item()\n",
        "            running_val_smape += mape.item()\n",
        "\n",
        "    torch.cuda.empty_cache()\n",
        "\n",
        "    val_loss = running_val_loss / len(val_dataloader)\n",
        "    val_mae = running_val_mae / len(val_dataloader)\n",
        "    val_rmse = running_val_rmse / len(val_dataloader)\n",
        "    val_smape = running_val_smape / len(val_dataloader)\n",
        "\n",
        "    return val_loss, val_mae, val_rmse, val_smape\n"
      ]
    },
    {
      "cell_type": "code",
      "execution_count": null,
      "metadata": {
        "colab": {
          "base_uri": "https://localhost:8080/"
        },
        "id": "kIiyHsKrSbup",
        "outputId": "81a23769-7d72-4a56-bf4a-c71dfde10e75"
      },
      "outputs": [
        {
          "output_type": "stream",
          "name": "stdout",
          "text": [
            "Epoch 1/30\n",
            "[1/723] - 0s 329ms/step - train { loss: 0.0446 - MPA: 35.2% - MiOU: 30.6% } - lr: 0.001              \n",
            "[2/723] - 1s 316ms/step - train { loss: 0.123 - MPA: 56.3% - MiOU: 32.8% } - lr: 0.001              \n",
            "[3/723] - 1s 305ms/step - train { loss: 0.125 - MPA: 61% - MiOU: 31% } - lr: 0.001              \n",
            "[4/723] - 1s 305ms/step - train { loss: 0.111 - MPA: 64.4% - MiOU: 31.9% } - lr: 0.001              \n",
            "[5/723] - 2s 305ms/step - train { loss: 0.0974 - MPA: 62% - MiOU: 33% } - lr: 0.001              \n",
            "[6/723] - 2s 306ms/step - train { loss: 0.0853 - MPA: 64.1% - MiOU: 34.8% } - lr: 0.001              \n",
            "[7/723] - 2s 306ms/step - train { loss: 0.0758 - MPA: 62.8% - MiOU: 37.1% } - lr: 0.001              \n",
            "[8/723] - 2s 307ms/step - train { loss: 0.0681 - MPA: 61.2% - MiOU: 38.7% } - lr: 0.001              \n",
            "[9/723] - 3s 305ms/step - train { loss: 0.062 - MPA: 60% - MiOU: 39.9% } - lr: 0.001              \n",
            "[10/723] - 3s 301ms/step - train { loss: 0.0569 - MPA: 59% - MiOU: 40.9% } - lr: 0.001              \n",
            "[11/723] - 3s 301ms/step - train { loss: 0.0527 - MPA: 58.1% - MiOU: 41.7% } - lr: 0.001              \n",
            "[12/723] - 4s 301ms/step - train { loss: 0.049 - MPA: 57.5% - MiOU: 42.3% } - lr: 0.001              \n",
            "[13/723] - 4s 302ms/step - train { loss: 0.0459 - MPA: 56.9% - MiOU: 42.9% } - lr: 0.001              \n",
            "[14/723] - 4s 301ms/step - train { loss: 0.043 - MPA: 56.4% - MiOU: 43.4% } - lr: 0.001              \n",
            "[15/723] - 5s 304ms/step - train { loss: 0.0406 - MPA: 56% - MiOU: 43.8% } - lr: 0.001              \n",
            "[16/723] - 5s 308ms/step - train { loss: 0.0383 - MPA: 55.6% - MiOU: 44.2% } - lr: 0.001              \n",
            "[17/723] - 5s 310ms/step - train { loss: 0.0363 - MPA: 55.3% - MiOU: 44.5% } - lr: 0.001              \n",
            "[18/723] - 6s 311ms/step - train { loss: 0.0346 - MPA: 55% - MiOU: 44.8% } - lr: 0.001              \n",
            "[19/723] - 6s 315ms/step - train { loss: 0.033 - MPA: 54.7% - MiOU: 45.1% } - lr: 0.001              \n",
            "[20/723] - 6s 315ms/step - train { loss: 0.0315 - MPA: 54.5% - MiOU: 45.3% } - lr: 0.001              \n",
            "[21/723] - 7s 316ms/step - train { loss: 0.0301 - MPA: 54.3% - MiOU: 45.5% } - lr: 0.001              \n",
            "[22/723] - 7s 316ms/step - train { loss: 0.0289 - MPA: 54.1% - MiOU: 45.7% } - lr: 0.001              \n",
            "[23/723] - 7s 315ms/step - train { loss: 0.0278 - MPA: 53.9% - MiOU: 45.9% } - lr: 0.001              \n",
            "[24/723] - 8s 316ms/step - train { loss: 0.0268 - MPA: 53.7% - MiOU: 46% } - lr: 0.001              \n",
            "[25/723] - 8s 315ms/step - train { loss: 0.0259 - MPA: 53.6% - MiOU: 46.2% } - lr: 0.001              \n",
            "[26/723] - 8s 314ms/step - train { loss: 0.025 - MPA: 53.4% - MiOU: 46.3% } - lr: 0.001              \n",
            "[27/723] - 8s 314ms/step - train { loss: 0.0241 - MPA: 53.3% - MiOU: 46.5% } - lr: 0.001              \n",
            "[28/723] - 9s 314ms/step - train { loss: 0.0233 - MPA: 53.2% - MiOU: 46.6% } - lr: 0.001              \n",
            "[29/723] - 9s 313ms/step - train { loss: 0.0226 - MPA: 53.1% - MiOU: 46.7% } - lr: 0.001              \n",
            "[30/723] - 9s 314ms/step - train { loss: 0.0219 - MPA: 53% - MiOU: 46.8% } - lr: 0.001              \n",
            "[31/723] - 10s 314ms/step - train { loss: 0.0213 - MPA: 52.9% - MiOU: 46.9% } - lr: 0.001              \n",
            "[32/723] - 10s 314ms/step - train { loss: 0.0207 - MPA: 52.8% - MiOU: 47% } - lr: 0.001              \n",
            "[33/723] - 10s 314ms/step - train { loss: 0.0201 - MPA: 52.7% - MiOU: 47.1% } - lr: 0.001              \n",
            "[34/723] - 11s 314ms/step - train { loss: 0.0196 - MPA: 52.6% - MiOU: 47.1% } - lr: 0.001              \n",
            "[35/723] - 11s 314ms/step - train { loss: 0.0191 - MPA: 52.6% - MiOU: 47.2% } - lr: 0.001              \n",
            "[36/723] - 11s 314ms/step - train { loss: 0.0186 - MPA: 52.5% - MiOU: 47.3% } - lr: 0.001              \n",
            "[37/723] - 12s 313ms/step - train { loss: 0.0182 - MPA: 52.4% - MiOU: 47.3% } - lr: 0.001              \n",
            "[38/723] - 12s 313ms/step - train { loss: 0.0177 - MPA: 52.4% - MiOU: 47.4% } - lr: 0.001              \n",
            "[39/723] - 12s 312ms/step - train { loss: 0.0173 - MPA: 52.3% - MiOU: 47.5% } - lr: 0.001              \n",
            "[40/723] - 12s 312ms/step - train { loss: 0.0169 - MPA: 52.2% - MiOU: 47.5% } - lr: 0.001              \n",
            "[41/723] - 13s 312ms/step - train { loss: 0.0166 - MPA: 52.2% - MiOU: 47.6% } - lr: 0.001              \n",
            "[42/723] - 13s 312ms/step - train { loss: 0.0162 - MPA: 52.1% - MiOU: 47.6% } - lr: 0.001              \n",
            "[43/723] - 13s 312ms/step - train { loss: 0.0159 - MPA: 52.1% - MiOU: 47.7% } - lr: 0.001              \n",
            "[44/723] - 14s 312ms/step - train { loss: 0.0156 - MPA: 52% - MiOU: 47.7% } - lr: 0.001              \n",
            "[45/723] - 14s 312ms/step - train { loss: 0.0153 - MPA: 52% - MiOU: 47.8% } - lr: 0.001              \n",
            "[46/723] - 14s 312ms/step - train { loss: 0.015 - MPA: 52.5% - MiOU: 48.4% } - lr: 0.001              \n",
            "[47/723] - 15s 312ms/step - train { loss: 0.0147 - MPA: 52.4% - MiOU: 48.4% } - lr: 0.001              \n",
            "[48/723] - 15s 312ms/step - train { loss: 0.0144 - MPA: 52.4% - MiOU: 48.4% } - lr: 0.001              \n",
            "[49/723] - 15s 312ms/step - train { loss: 0.0141 - MPA: 52.3% - MiOU: 48.5% } - lr: 0.001              \n",
            "[50/723] - 16s 312ms/step - train { loss: 0.0139 - MPA: 52.3% - MiOU: 48.5% } - lr: 0.001              \n",
            "[51/723] - 16s 312ms/step - train { loss: 0.0136 - MPA: 52.2% - MiOU: 48.5% } - lr: 0.001              \n",
            "[52/723] - 16s 312ms/step - train { loss: 0.0134 - MPA: 52.2% - MiOU: 48.5% } - lr: 0.001              \n",
            "[53/723] - 17s 314ms/step - train { loss: 0.0132 - MPA: 52.2% - MiOU: 48.6% } - lr: 0.001              \n",
            "[54/723] - 17s 315ms/step - train { loss: 0.013 - MPA: 52.1% - MiOU: 48.6% } - lr: 0.001              \n",
            "[55/723] - 17s 316ms/step - train { loss: 0.0128 - MPA: 52.1% - MiOU: 48.6% } - lr: 0.001              \n",
            "[56/723] - 18s 316ms/step - train { loss: 0.0126 - MPA: 52% - MiOU: 48.6% } - lr: 0.001              \n",
            "[57/723] - 18s 316ms/step - train { loss: 0.0124 - MPA: 52% - MiOU: 48.6% } - lr: 0.001              \n",
            "[58/723] - 18s 316ms/step - train { loss: 0.0122 - MPA: 52% - MiOU: 48.7% } - lr: 0.001              \n",
            "[59/723] - 19s 316ms/step - train { loss: 0.012 - MPA: 51.9% - MiOU: 48.7% } - lr: 0.001              \n",
            "[60/723] - 19s 316ms/step - train { loss: 0.0118 - MPA: 51.9% - MiOU: 48.7% } - lr: 0.001              \n",
            "[61/723] - 19s 316ms/step - train { loss: 0.0117 - MPA: 51.9% - MiOU: 48.7% } - lr: 0.001              \n",
            "[62/723] - 20s 315ms/step - train { loss: 0.0115 - MPA: 51.9% - MiOU: 48.7% } - lr: 0.001              \n",
            "[63/723] - 20s 315ms/step - train { loss: 0.0113 - MPA: 51.8% - MiOU: 48.8% } - lr: 0.001              \n",
            "[64/723] - 20s 315ms/step - train { loss: 0.0112 - MPA: 51.8% - MiOU: 48.8% } - lr: 0.001              \n",
            "[65/723] - 20s 314ms/step - train { loss: 0.011 - MPA: 51.8% - MiOU: 48.8% } - lr: 0.001              \n",
            "[66/723] - 21s 315ms/step - train { loss: 0.0109 - MPA: 51.7% - MiOU: 48.8% } - lr: 0.001              \n",
            "[67/723] - 21s 315ms/step - train { loss: 0.0107 - MPA: 52.1% - MiOU: 49.2% } - lr: 0.001              \n",
            "[68/723] - 21s 314ms/step - train { loss: 0.0106 - MPA: 52.1% - MiOU: 49.2% } - lr: 0.001              \n",
            "[69/723] - 22s 315ms/step - train { loss: 0.0105 - MPA: 52% - MiOU: 49.2% } - lr: 0.001              \n",
            "[70/723] - 22s 315ms/step - train { loss: 0.0103 - MPA: 52% - MiOU: 49.2% } - lr: 0.001              \n",
            "[71/723] - 22s 314ms/step - train { loss: 0.0102 - MPA: 52% - MiOU: 49.2% } - lr: 0.001              \n",
            "[72/723] - 23s 314ms/step - train { loss: 0.0101 - MPA: 51.9% - MiOU: 49.2% } - lr: 0.001              \n",
            "[73/723] - 23s 314ms/step - train { loss: 0.00996 - MPA: 51.9% - MiOU: 49.2% } - lr: 0.001              \n",
            "[74/723] - 23s 314ms/step - train { loss: 0.00985 - MPA: 51.9% - MiOU: 49.2% } - lr: 0.001              \n",
            "[75/723] - 24s 314ms/step - train { loss: 0.00972 - MPA: 51.9% - MiOU: 49.3% } - lr: 0.001              \n",
            "[76/723] - 24s 314ms/step - train { loss: 0.00962 - MPA: 51.9% - MiOU: 49.3% } - lr: 0.001              \n",
            "[77/723] - 24s 314ms/step - train { loss: 0.00951 - MPA: 51.8% - MiOU: 49.3% } - lr: 0.001              \n",
            "[78/723] - 24s 314ms/step - train { loss: 0.0094 - MPA: 51.8% - MiOU: 49.3% } - lr: 0.001              \n",
            "[79/723] - 25s 314ms/step - train { loss: 0.00929 - MPA: 52.1% - MiOU: 49.6% } - lr: 0.001              \n",
            "[80/723] - 25s 314ms/step - train { loss: 0.0092 - MPA: 52.1% - MiOU: 49.6% } - lr: 0.001              \n",
            "[81/723] - 25s 314ms/step - train { loss: 0.00911 - MPA: 52.1% - MiOU: 49.7% } - lr: 0.001              \n",
            "[82/723] - 26s 314ms/step - train { loss: 0.00901 - MPA: 52.1% - MiOU: 49.7% } - lr: 0.001              \n",
            "[83/723] - 26s 313ms/step - train { loss: 0.00892 - MPA: 52.2% - MiOU: 49.8% } - lr: 0.001              \n",
            "[84/723] - 26s 313ms/step - train { loss: 0.00883 - MPA: 52.1% - MiOU: 49.8% } - lr: 0.001              \n",
            "[85/723] - 27s 313ms/step - train { loss: 0.00873 - MPA: 52.2% - MiOU: 49.8% } - lr: 0.001              \n",
            "[86/723] - 27s 313ms/step - train { loss: 0.00865 - MPA: 52.2% - MiOU: 49.9% } - lr: 0.001              \n",
            "[87/723] - 27s 313ms/step - train { loss: 0.00856 - MPA: 52.3% - MiOU: 50% } - lr: 0.001              \n",
            "[88/723] - 28s 313ms/step - train { loss: 0.00847 - MPA: 52.4% - MiOU: 50.1% } - lr: 0.001              \n",
            "[89/723] - 28s 313ms/step - train { loss: 0.00839 - MPA: 52.4% - MiOU: 50.1% } - lr: 0.001              \n",
            "[90/723] - 28s 313ms/step - train { loss: 0.00831 - MPA: 52.4% - MiOU: 50.2% } - lr: 0.001              \n",
            "[91/723] - 28s 313ms/step - train { loss: 0.00823 - MPA: 52.4% - MiOU: 50.2% } - lr: 0.001              \n",
            "[92/723] - 29s 313ms/step - train { loss: 0.00815 - MPA: 52.5% - MiOU: 50.3% } - lr: 0.001              \n",
            "[93/723] - 29s 313ms/step - train { loss: 0.00808 - MPA: 52.6% - MiOU: 50.5% } - lr: 0.001              \n",
            "[94/723] - 29s 313ms/step - train { loss: 0.00801 - MPA: 52.7% - MiOU: 50.5% } - lr: 0.001              \n",
            "[95/723] - 30s 314ms/step - train { loss: 0.00793 - MPA: 52.7% - MiOU: 50.5% } - lr: 0.001              \n",
            "[96/723] - 30s 314ms/step - train { loss: 0.00786 - MPA: 52.8% - MiOU: 50.7% } - lr: 0.001              \n",
            "[97/723] - 31s 315ms/step - train { loss: 0.00779 - MPA: 52.9% - MiOU: 50.8% } - lr: 0.001              \n",
            "[98/723] - 31s 315ms/step - train { loss: 0.00772 - MPA: 53% - MiOU: 50.9% } - lr: 0.001              \n",
            "[99/723] - 31s 315ms/step - train { loss: 0.00765 - MPA: 53.2% - MiOU: 51.1% } - lr: 0.001              \n",
            "[100/723] - 31s 315ms/step - train { loss: 0.00758 - MPA: 53.2% - MiOU: 51.2% } - lr: 0.001              \n",
            "[101/723] - 32s 315ms/step - train { loss: 0.00752 - MPA: 53.4% - MiOU: 51.3% } - lr: 0.001              \n",
            "[102/723] - 32s 314ms/step - train { loss: 0.00745 - MPA: 53.4% - MiOU: 51.4% } - lr: 0.001              \n",
            "[103/723] - 32s 314ms/step - train { loss: 0.00739 - MPA: 53.5% - MiOU: 51.5% } - lr: 0.001              \n",
            "[104/723] - 33s 314ms/step - train { loss: 0.00733 - MPA: 53.6% - MiOU: 51.6% } - lr: 0.001              \n",
            "[105/723] - 33s 314ms/step - train { loss: 0.00727 - MPA: 53.8% - MiOU: 51.8% } - lr: 0.001              \n",
            "[106/723] - 33s 314ms/step - train { loss: 0.00722 - MPA: 53.9% - MiOU: 52% } - lr: 0.001              \n",
            "[107/723] - 34s 314ms/step - train { loss: 0.00716 - MPA: 54.2% - MiOU: 52.2% } - lr: 0.001              \n",
            "[108/723] - 34s 314ms/step - train { loss: 0.0071 - MPA: 54.4% - MiOU: 52.4% } - lr: 0.001              \n",
            "[109/723] - 34s 314ms/step - train { loss: 0.00705 - MPA: 54.5% - MiOU: 52.5% } - lr: 0.001              \n",
            "[110/723] - 34s 313ms/step - train { loss: 0.00699 - MPA: 54.6% - MiOU: 52.6% } - lr: 0.001              \n",
            "[111/723] - 35s 313ms/step - train { loss: 0.00694 - MPA: 54.8% - MiOU: 52.7% } - lr: 0.001              \n",
            "[112/723] - 35s 313ms/step - train { loss: 0.00689 - MPA: 55% - MiOU: 52.9% } - lr: 0.001              \n",
            "[113/723] - 35s 313ms/step - train { loss: 0.00683 - MPA: 55.2% - MiOU: 53.1% } - lr: 0.001              \n",
            "[114/723] - 36s 313ms/step - train { loss: 0.00678 - MPA: 55.3% - MiOU: 53.2% } - lr: 0.001              \n",
            "[115/723] - 36s 313ms/step - train { loss: 0.00673 - MPA: 55.4% - MiOU: 53.3% } - lr: 0.001              \n",
            "[116/723] - 36s 313ms/step - train { loss: 0.00668 - MPA: 55.5% - MiOU: 53.4% } - lr: 0.001              \n",
            "[117/723] - 37s 313ms/step - train { loss: 0.00663 - MPA: 55.7% - MiOU: 53.6% } - lr: 0.001              \n",
            "[118/723] - 37s 313ms/step - train { loss: 0.00658 - MPA: 55.9% - MiOU: 53.8% } - lr: 0.001              \n",
            "[119/723] - 37s 313ms/step - train { loss: 0.00653 - MPA: 56% - MiOU: 53.9% } - lr: 0.001              \n",
            "[120/723] - 38s 313ms/step - train { loss: 0.00648 - MPA: 56% - MiOU: 53.9% } - lr: 0.001              \n",
            "[121/723] - 38s 313ms/step - train { loss: 0.00644 - MPA: 56.1% - MiOU: 54% } - lr: 0.001              \n",
            "[122/723] - 38s 313ms/step - train { loss: 0.00639 - MPA: 56.2% - MiOU: 54.1% } - lr: 0.001              \n",
            "[123/723] - 38s 313ms/step - train { loss: 0.00635 - MPA: 56.4% - MiOU: 54.3% } - lr: 0.001              \n",
            "[124/723] - 39s 313ms/step - train { loss: 0.0063 - MPA: 56.4% - MiOU: 54.3% } - lr: 0.001              \n",
            "[125/723] - 39s 313ms/step - train { loss: 0.00625 - MPA: 56.4% - MiOU: 54.3% } - lr: 0.001              \n",
            "[126/723] - 39s 313ms/step - train { loss: 0.00621 - MPA: 56.5% - MiOU: 54.4% } - lr: 0.001              \n",
            "[127/723] - 40s 313ms/step - train { loss: 0.00617 - MPA: 56.7% - MiOU: 54.6% } - lr: 0.001              \n",
            "[128/723] - 40s 313ms/step - train { loss: 0.00612 - MPA: 56.8% - MiOU: 54.7% } - lr: 0.001              \n",
            "[129/723] - 40s 312ms/step - train { loss: 0.00608 - MPA: 56.8% - MiOU: 54.7% } - lr: 0.001              \n",
            "[130/723] - 41s 313ms/step - train { loss: 0.00604 - MPA: 56.9% - MiOU: 54.9% } - lr: 0.001              \n",
            "[131/723] - 41s 313ms/step - train { loss: 0.006 - MPA: 56.9% - MiOU: 54.9% } - lr: 0.001              \n",
            "[132/723] - 41s 313ms/step - train { loss: 0.00597 - MPA: 57% - MiOU: 55% } - lr: 0.001              \n",
            "[133/723] - 42s 313ms/step - train { loss: 0.00593 - MPA: 57.1% - MiOU: 55% } - lr: 0.001              \n",
            "[134/723] - 42s 314ms/step - train { loss: 0.00589 - MPA: 57.2% - MiOU: 55.2% } - lr: 0.001              \n",
            "[135/723] - 42s 314ms/step - train { loss: 0.00585 - MPA: 57.4% - MiOU: 55.3% } - lr: 0.001              \n",
            "[136/723] - 43s 314ms/step - train { loss: 0.00581 - MPA: 57.6% - MiOU: 55.5% } - lr: 0.001              \n",
            "[137/723] - 43s 315ms/step - train { loss: 0.00577 - MPA: 57.8% - MiOU: 55.6% } - lr: 0.001              \n",
            "[138/723] - 43s 314ms/step - train { loss: 0.00574 - MPA: 57.9% - MiOU: 55.7% } - lr: 0.001              \n",
            "[139/723] - 44s 314ms/step - train { loss: 0.0057 - MPA: 57.9% - MiOU: 55.8% } - lr: 0.001              \n",
            "[140/723] - 44s 314ms/step - train { loss: 0.00567 - MPA: 58% - MiOU: 55.9% } - lr: 0.001              \n",
            "[141/723] - 44s 314ms/step - train { loss: 0.00564 - MPA: 58.1% - MiOU: 56% } - lr: 0.001              \n",
            "[142/723] - 45s 314ms/step - train { loss: 0.00561 - MPA: 58.2% - MiOU: 56% } - lr: 0.001              \n",
            "[143/723] - 45s 314ms/step - train { loss: 0.00557 - MPA: 58.4% - MiOU: 56.2% } - lr: 0.001              \n",
            "[144/723] - 45s 314ms/step - train { loss: 0.00554 - MPA: 58.4% - MiOU: 56.2% } - lr: 0.001              \n",
            "[145/723] - 46s 314ms/step - train { loss: 0.0055 - MPA: 58.5% - MiOU: 56.3% } - lr: 0.001              \n",
            "[146/723] - 46s 314ms/step - train { loss: 0.00547 - MPA: 58.7% - MiOU: 56.4% } - lr: 0.001              \n",
            "[147/723] - 46s 314ms/step - train { loss: 0.00544 - MPA: 58.8% - MiOU: 56.5% } - lr: 0.001              \n",
            "[148/723] - 46s 314ms/step - train { loss: 0.00542 - MPA: 59% - MiOU: 56.6% } - lr: 0.001              \n",
            "[149/723] - 47s 314ms/step - train { loss: 0.00538 - MPA: 59.1% - MiOU: 56.7% } - lr: 0.001              \n",
            "[150/723] - 47s 313ms/step - train { loss: 0.00535 - MPA: 59.2% - MiOU: 56.8% } - lr: 0.001              \n",
            "[151/723] - 47s 313ms/step - train { loss: 0.00532 - MPA: 59.2% - MiOU: 56.9% } - lr: 0.001              \n",
            "[152/723] - 48s 313ms/step - train { loss: 0.00529 - MPA: 59.3% - MiOU: 57% } - lr: 0.001              \n",
            "[153/723] - 48s 313ms/step - train { loss: 0.00526 - MPA: 59.4% - MiOU: 57.1% } - lr: 0.001              \n",
            "[154/723] - 48s 313ms/step - train { loss: 0.00523 - MPA: 59.4% - MiOU: 57.1% } - lr: 0.001              \n",
            "[155/723] - 49s 313ms/step - train { loss: 0.00521 - MPA: 59.5% - MiOU: 57.2% } - lr: 0.001              \n",
            "[156/723] - 49s 313ms/step - train { loss: 0.00518 - MPA: 59.6% - MiOU: 57.3% } - lr: 0.001              \n",
            "[157/723] - 49s 313ms/step - train { loss: 0.00515 - MPA: 59.7% - MiOU: 57.3% } - lr: 0.001              \n",
            "[158/723] - 49s 313ms/step - train { loss: 0.00513 - MPA: 59.7% - MiOU: 57.4% } - lr: 0.001              \n",
            "[159/723] - 50s 313ms/step - train { loss: 0.0051 - MPA: 59.8% - MiOU: 57.4% } - lr: 0.001              \n",
            "[160/723] - 50s 313ms/step - train { loss: 0.00507 - MPA: 59.9% - MiOU: 57.5% } - lr: 0.001              \n",
            "[161/723] - 50s 313ms/step - train { loss: 0.00505 - MPA: 60% - MiOU: 57.6% } - lr: 0.001              \n",
            "[162/723] - 51s 313ms/step - train { loss: 0.00502 - MPA: 60% - MiOU: 57.6% } - lr: 0.001              \n",
            "[163/723] - 51s 313ms/step - train { loss: 0.005 - MPA: 60.1% - MiOU: 57.7% } - lr: 0.001              \n",
            "[164/723] - 51s 313ms/step - train { loss: 0.00497 - MPA: 60.1% - MiOU: 57.8% } - lr: 0.001              \n",
            "[165/723] - 52s 312ms/step - train { loss: 0.00495 - MPA: 60.2% - MiOU: 57.8% } - lr: 0.001              \n",
            "[166/723] - 52s 312ms/step - train { loss: 0.00492 - MPA: 60.3% - MiOU: 57.9% } - lr: 0.001              \n",
            "[167/723] - 52s 312ms/step - train { loss: 0.00489 - MPA: 60.5% - MiOU: 58.1% } - lr: 0.001              \n",
            "[168/723] - 52s 312ms/step - train { loss: 0.00487 - MPA: 60.6% - MiOU: 58.2% } - lr: 0.001              \n",
            "[169/723] - 53s 312ms/step - train { loss: 0.00484 - MPA: 60.6% - MiOU: 58.2% } - lr: 0.001              \n",
            "[170/723] - 53s 313ms/step - train { loss: 0.00482 - MPA: 60.6% - MiOU: 58.2% } - lr: 0.001              \n",
            "[171/723] - 54s 313ms/step - train { loss: 0.00479 - MPA: 60.7% - MiOU: 58.3% } - lr: 0.001              \n",
            "[172/723] - 54s 313ms/step - train { loss: 0.00477 - MPA: 60.8% - MiOU: 58.3% } - lr: 0.001              \n",
            "[173/723] - 54s 313ms/step - train { loss: 0.00475 - MPA: 60.9% - MiOU: 58.5% } - lr: 0.001              \n",
            "[174/723] - 54s 313ms/step - train { loss: 0.00473 - MPA: 61% - MiOU: 58.5% } - lr: 0.001              \n",
            "[175/723] - 55s 313ms/step - train { loss: 0.0047 - MPA: 61.1% - MiOU: 58.6% } - lr: 0.001              \n",
            "[176/723] - 55s 314ms/step - train { loss: 0.00468 - MPA: 61.1% - MiOU: 58.7% } - lr: 0.001              \n",
            "[177/723] - 56s 314ms/step - train { loss: 0.00466 - MPA: 61.3% - MiOU: 58.8% } - lr: 0.001              \n",
            "[178/723] - 56s 314ms/step - train { loss: 0.00464 - MPA: 61.3% - MiOU: 58.9% } - lr: 0.001              \n",
            "[179/723] - 56s 313ms/step - train { loss: 0.00462 - MPA: 61.3% - MiOU: 58.9% } - lr: 0.001              \n",
            "[180/723] - 56s 313ms/step - train { loss: 0.0046 - MPA: 61.4% - MiOU: 59% } - lr: 0.001              \n",
            "[181/723] - 57s 313ms/step - train { loss: 0.00457 - MPA: 61.6% - MiOU: 59.1% } - lr: 0.001              \n",
            "[182/723] - 57s 313ms/step - train { loss: 0.00455 - MPA: 61.7% - MiOU: 59.3% } - lr: 0.001              \n",
            "[183/723] - 57s 313ms/step - train { loss: 0.00453 - MPA: 61.8% - MiOU: 59.4% } - lr: 0.001              \n",
            "[184/723] - 58s 313ms/step - train { loss: 0.00451 - MPA: 61.9% - MiOU: 59.4% } - lr: 0.001              \n",
            "[185/723] - 58s 313ms/step - train { loss: 0.00449 - MPA: 61.9% - MiOU: 59.5% } - lr: 0.001              \n",
            "[186/723] - 58s 313ms/step - train { loss: 0.00447 - MPA: 62% - MiOU: 59.6% } - lr: 0.001              \n",
            "[187/723] - 59s 313ms/step - train { loss: 0.00445 - MPA: 62.1% - MiOU: 59.6% } - lr: 0.001              \n",
            "[188/723] - 59s 313ms/step - train { loss: 0.00443 - MPA: 62.1% - MiOU: 59.6% } - lr: 0.001              \n",
            "[189/723] - 59s 313ms/step - train { loss: 0.00441 - MPA: 62.2% - MiOU: 59.7% } - lr: 0.001              \n",
            "[190/723] - 59s 313ms/step - train { loss: 0.00439 - MPA: 62.3% - MiOU: 59.8% } - lr: 0.001              \n",
            "[191/723] - 60s 313ms/step - train { loss: 0.00437 - MPA: 62.2% - MiOU: 59.8% } - lr: 0.001              \n",
            "[192/723] - 60s 313ms/step - train { loss: 0.00435 - MPA: 62.4% - MiOU: 59.8% } - lr: 0.001              \n",
            "[193/723] - 60s 313ms/step - train { loss: 0.00433 - MPA: 62.5% - MiOU: 59.9% } - lr: 0.001              \n",
            "[194/723] - 61s 313ms/step - train { loss: 0.00431 - MPA: 62.5% - MiOU: 60% } - lr: 0.001              \n",
            "[195/723] - 61s 313ms/step - train { loss: 0.00429 - MPA: 62.6% - MiOU: 60% } - lr: 0.001              \n",
            "[196/723] - 61s 313ms/step - train { loss: 0.00428 - MPA: 62.6% - MiOU: 60% } - lr: 0.001              \n",
            "[197/723] - 62s 313ms/step - train { loss: 0.00426 - MPA: 62.7% - MiOU: 60.1% } - lr: 0.001              \n",
            "[198/723] - 62s 313ms/step - train { loss: 0.00424 - MPA: 62.8% - MiOU: 60.2% } - lr: 0.001              \n",
            "[199/723] - 62s 313ms/step - train { loss: 0.00422 - MPA: 62.9% - MiOU: 60.3% } - lr: 0.001              \n",
            "[200/723] - 63s 313ms/step - train { loss: 0.0042 - MPA: 62.9% - MiOU: 60.4% } - lr: 0.001              \n",
            "[201/723] - 63s 313ms/step - train { loss: 0.00418 - MPA: 63% - MiOU: 60.4% } - lr: 0.001              \n",
            "[202/723] - 63s 312ms/step - train { loss: 0.00417 - MPA: 63% - MiOU: 60.5% } - lr: 0.001              \n",
            "[203/723] - 63s 312ms/step - train { loss: 0.00415 - MPA: 63.1% - MiOU: 60.5% } - lr: 0.001              \n",
            "[204/723] - 64s 312ms/step - train { loss: 0.00414 - MPA: 63.1% - MiOU: 60.6% } - lr: 0.001              \n",
            "[205/723] - 64s 312ms/step - train { loss: 0.00412 - MPA: 63.2% - MiOU: 60.6% } - lr: 0.001              \n",
            "[206/723] - 64s 312ms/step - train { loss: 0.00411 - MPA: 63.3% - MiOU: 60.7% } - lr: 0.001              \n",
            "[207/723] - 65s 312ms/step - train { loss: 0.00409 - MPA: 63.4% - MiOU: 60.8% } - lr: 0.001              \n",
            "[208/723] - 65s 312ms/step - train { loss: 0.00407 - MPA: 63.4% - MiOU: 60.8% } - lr: 0.001              \n",
            "[209/723] - 65s 312ms/step - train { loss: 0.00406 - MPA: 63.5% - MiOU: 60.9% } - lr: 0.001              \n",
            "[210/723] - 66s 312ms/step - train { loss: 0.00404 - MPA: 63.7% - MiOU: 61% } - lr: 0.001              \n",
            "[211/723] - 66s 312ms/step - train { loss: 0.00402 - MPA: 63.8% - MiOU: 61.1% } - lr: 0.001              \n",
            "[212/723] - 66s 312ms/step - train { loss: 0.00401 - MPA: 63.8% - MiOU: 61.2% } - lr: 0.001              \n",
            "[213/723] - 67s 313ms/step - train { loss: 0.00399 - MPA: 63.8% - MiOU: 61.1% } - lr: 0.001              \n",
            "[214/723] - 67s 313ms/step - train { loss: 0.00397 - MPA: 63.9% - MiOU: 61.2% } - lr: 0.001              \n",
            "[215/723] - 67s 313ms/step - train { loss: 0.00396 - MPA: 64% - MiOU: 61.3% } - lr: 0.001              \n",
            "[216/723] - 68s 313ms/step - train { loss: 0.00394 - MPA: 64% - MiOU: 61.3% } - lr: 0.001              \n",
            "[217/723] - 68s 313ms/step - train { loss: 0.00393 - MPA: 64.1% - MiOU: 61.4% } - lr: 0.001              \n",
            "[218/723] - 68s 313ms/step - train { loss: 0.00391 - MPA: 64.2% - MiOU: 61.5% } - lr: 0.001              \n",
            "[219/723] - 69s 313ms/step - train { loss: 0.0039 - MPA: 64.2% - MiOU: 61.5% } - lr: 0.001              \n",
            "[220/723] - 69s 313ms/step - train { loss: 0.00388 - MPA: 64.3% - MiOU: 61.6% } - lr: 0.001              \n",
            "[221/723] - 69s 313ms/step - train { loss: 0.00387 - MPA: 64.4% - MiOU: 61.7% } - lr: 0.001              \n",
            "[222/723] - 69s 313ms/step - train { loss: 0.00385 - MPA: 64.4% - MiOU: 61.7% } - lr: 0.001              \n",
            "[223/723] - 70s 313ms/step - train { loss: 0.00384 - MPA: 64.5% - MiOU: 61.8% } - lr: 0.001              \n",
            "[224/723] - 70s 313ms/step - train { loss: 0.00382 - MPA: 64.5% - MiOU: 61.8% } - lr: 0.001              \n",
            "[225/723] - 70s 313ms/step - train { loss: 0.00381 - MPA: 64.6% - MiOU: 61.8% } - lr: 0.001              \n",
            "[226/723] - 71s 313ms/step - train { loss: 0.0038 - MPA: 64.7% - MiOU: 61.9% } - lr: 0.001              \n",
            "[227/723] - 71s 313ms/step - train { loss: 0.00378 - MPA: 64.7% - MiOU: 62% } - lr: 0.001              \n",
            "[228/723] - 71s 313ms/step - train { loss: 0.00377 - MPA: 64.8% - MiOU: 62% } - lr: 0.001              \n",
            "[229/723] - 72s 313ms/step - train { loss: 0.00376 - MPA: 64.8% - MiOU: 62.1% } - lr: 0.001              \n",
            "[230/723] - 72s 313ms/step - train { loss: 0.00374 - MPA: 64.9% - MiOU: 62.1% } - lr: 0.001              \n",
            "[231/723] - 72s 313ms/step - train { loss: 0.00373 - MPA: 64.9% - MiOU: 62.1% } - lr: 0.001              \n",
            "[232/723] - 73s 313ms/step - train { loss: 0.00372 - MPA: 65% - MiOU: 62.2% } - lr: 0.001              \n",
            "[233/723] - 73s 313ms/step - train { loss: 0.0037 - MPA: 64.9% - MiOU: 62.1% } - lr: 0.001              \n",
            "[234/723] - 73s 313ms/step - train { loss: 0.00369 - MPA: 64.9% - MiOU: 62.1% } - lr: 0.001              \n",
            "[235/723] - 73s 312ms/step - train { loss: 0.00368 - MPA: 65% - MiOU: 62.2% } - lr: 0.001              \n",
            "[236/723] - 74s 312ms/step - train { loss: 0.00366 - MPA: 65.1% - MiOU: 62.3% } - lr: 0.001              \n",
            "[237/723] - 74s 312ms/step - train { loss: 0.00365 - MPA: 65.2% - MiOU: 62.4% } - lr: 0.001              \n",
            "[238/723] - 74s 312ms/step - train { loss: 0.00364 - MPA: 65.2% - MiOU: 62.4% } - lr: 0.001              \n",
            "[239/723] - 75s 312ms/step - train { loss: 0.00363 - MPA: 65.2% - MiOU: 62.5% } - lr: 0.001              \n",
            "[240/723] - 75s 312ms/step - train { loss: 0.00361 - MPA: 65.3% - MiOU: 62.5% } - lr: 0.001              \n",
            "[241/723] - 75s 312ms/step - train { loss: 0.0036 - MPA: 65.3% - MiOU: 62.5% } - lr: 0.001              \n",
            "[242/723] - 76s 312ms/step - train { loss: 0.00359 - MPA: 65.4% - MiOU: 62.6% } - lr: 0.001              \n",
            "[243/723] - 76s 312ms/step - train { loss: 0.00358 - MPA: 65.4% - MiOU: 62.6% } - lr: 0.001              \n",
            "[244/723] - 76s 312ms/step - train { loss: 0.00357 - MPA: 65.4% - MiOU: 62.7% } - lr: 0.001              \n",
            "[245/723] - 76s 312ms/step - train { loss: 0.00355 - MPA: 65.4% - MiOU: 62.7% } - lr: 0.001              \n",
            "[246/723] - 77s 312ms/step - train { loss: 0.00354 - MPA: 65.4% - MiOU: 62.7% } - lr: 0.001              \n",
            "[247/723] - 77s 312ms/step - train { loss: 0.00353 - MPA: 65.5% - MiOU: 62.8% } - lr: 0.001              \n",
            "[248/723] - 77s 312ms/step - train { loss: 0.00352 - MPA: 65.6% - MiOU: 62.8% } - lr: 0.001              \n",
            "[249/723] - 78s 312ms/step - train { loss: 0.00351 - MPA: 65.6% - MiOU: 62.9% } - lr: 0.001              \n",
            "[250/723] - 78s 312ms/step - train { loss: 0.0035 - MPA: 65.7% - MiOU: 62.9% } - lr: 0.001              \n",
            "[251/723] - 78s 312ms/step - train { loss: 0.00348 - MPA: 65.7% - MiOU: 62.9% } - lr: 0.001              \n",
            "[252/723] - 79s 312ms/step - train { loss: 0.00347 - MPA: 65.8% - MiOU: 63% } - lr: 0.001              \n",
            "[253/723] - 79s 312ms/step - train { loss: 0.00346 - MPA: 65.8% - MiOU: 63% } - lr: 0.001              \n",
            "[254/723] - 79s 312ms/step - train { loss: 0.00345 - MPA: 65.9% - MiOU: 63.1% } - lr: 0.001              \n",
            "[255/723] - 80s 312ms/step - train { loss: 0.00344 - MPA: 66% - MiOU: 63.1% } - lr: 0.001              \n",
            "[256/723] - 80s 312ms/step - train { loss: 0.00343 - MPA: 66.1% - MiOU: 63.2% } - lr: 0.001              \n",
            "[257/723] - 80s 312ms/step - train { loss: 0.00342 - MPA: 66.1% - MiOU: 63.2% } - lr: 0.001              \n",
            "[258/723] - 81s 312ms/step - train { loss: 0.00341 - MPA: 66.1% - MiOU: 63.3% } - lr: 0.001              \n",
            "[259/723] - 81s 312ms/step - train { loss: 0.0034 - MPA: 66.2% - MiOU: 63.3% } - lr: 0.001              \n",
            "[260/723] - 81s 312ms/step - train { loss: 0.00339 - MPA: 66.2% - MiOU: 63.3% } - lr: 0.001              \n",
            "[261/723] - 82s 312ms/step - train { loss: 0.00338 - MPA: 66.2% - MiOU: 63.4% } - lr: 0.001              \n",
            "[262/723] - 82s 312ms/step - train { loss: 0.00337 - MPA: 66.2% - MiOU: 63.4% } - lr: 0.001              \n",
            "[263/723] - 82s 312ms/step - train { loss: 0.00336 - MPA: 66.3% - MiOU: 63.5% } - lr: 0.001              \n",
            "[264/723] - 82s 312ms/step - train { loss: 0.00335 - MPA: 66.4% - MiOU: 63.5% } - lr: 0.001              \n",
            "[265/723] - 83s 312ms/step - train { loss: 0.00334 - MPA: 66.4% - MiOU: 63.5% } - lr: 0.001              \n",
            "[266/723] - 83s 312ms/step - train { loss: 0.00333 - MPA: 66.4% - MiOU: 63.6% } - lr: 0.001              \n",
            "[267/723] - 83s 312ms/step - train { loss: 0.00332 - MPA: 66.5% - MiOU: 63.6% } - lr: 0.001              \n",
            "[268/723] - 84s 312ms/step - train { loss: 0.00331 - MPA: 66.5% - MiOU: 63.7% } - lr: 0.001              \n",
            "[269/723] - 84s 312ms/step - train { loss: 0.0033 - MPA: 66.6% - MiOU: 63.7% } - lr: 0.001              \n",
            "[270/723] - 84s 312ms/step - train { loss: 0.00329 - MPA: 66.6% - MiOU: 63.7% } - lr: 0.001              \n",
            "[271/723] - 85s 312ms/step - train { loss: 0.00328 - MPA: 66.7% - MiOU: 63.8% } - lr: 0.001              \n",
            "[272/723] - 85s 312ms/step - train { loss: 0.00327 - MPA: 66.7% - MiOU: 63.8% } - lr: 0.001              \n",
            "[273/723] - 85s 312ms/step - train { loss: 0.00326 - MPA: 66.8% - MiOU: 63.9% } - lr: 0.001              \n",
            "[274/723] - 85s 312ms/step - train { loss: 0.00325 - MPA: 66.9% - MiOU: 63.9% } - lr: 0.001              \n",
            "[275/723] - 86s 312ms/step - train { loss: 0.00324 - MPA: 66.9% - MiOU: 63.9% } - lr: 0.001              \n",
            "[276/723] - 86s 312ms/step - train { loss: 0.00323 - MPA: 66.9% - MiOU: 63.9% } - lr: 0.001              \n",
            "[277/723] - 86s 312ms/step - train { loss: 0.00322 - MPA: 66.8% - MiOU: 63.9% } - lr: 0.001              \n",
            "[278/723] - 87s 312ms/step - train { loss: 0.00321 - MPA: 66.9% - MiOU: 64% } - lr: 0.001              \n",
            "[279/723] - 87s 312ms/step - train { loss: 0.0032 - MPA: 66.9% - MiOU: 64% } - lr: 0.001              \n",
            "[280/723] - 87s 312ms/step - train { loss: 0.00319 - MPA: 66.9% - MiOU: 64% } - lr: 0.001              \n",
            "[281/723] - 88s 312ms/step - train { loss: 0.00318 - MPA: 67% - MiOU: 64.1% } - lr: 0.001              \n",
            "[282/723] - 88s 312ms/step - train { loss: 0.00317 - MPA: 67% - MiOU: 64.1% } - lr: 0.001              \n",
            "[283/723] - 88s 312ms/step - train { loss: 0.00316 - MPA: 67% - MiOU: 64.1% } - lr: 0.001              \n",
            "[284/723] - 88s 312ms/step - train { loss: 0.00315 - MPA: 67.2% - MiOU: 64.2% } - lr: 0.001              \n",
            "[285/723] - 89s 312ms/step - train { loss: 0.00314 - MPA: 67.2% - MiOU: 64.3% } - lr: 0.001              \n",
            "[286/723] - 89s 312ms/step - train { loss: 0.00313 - MPA: 67.2% - MiOU: 64.3% } - lr: 0.001              \n",
            "[287/723] - 89s 311ms/step - train { loss: 0.00312 - MPA: 67.3% - MiOU: 64.3% } - lr: 0.001              \n",
            "[288/723] - 90s 311ms/step - train { loss: 0.00311 - MPA: 67.3% - MiOU: 64.3% } - lr: 0.001              \n",
            "[289/723] - 90s 311ms/step - train { loss: 0.0031 - MPA: 67.3% - MiOU: 64.3% } - lr: 0.001              \n",
            "[290/723] - 90s 312ms/step - train { loss: 0.0031 - MPA: 67.3% - MiOU: 64.3% } - lr: 0.001              \n",
            "[291/723] - 91s 312ms/step - train { loss: 0.00309 - MPA: 67.4% - MiOU: 64.4% } - lr: 0.001              \n",
            "[292/723] - 91s 312ms/step - train { loss: 0.00308 - MPA: 67.4% - MiOU: 64.4% } - lr: 0.001              \n",
            "[293/723] - 91s 312ms/step - train { loss: 0.00307 - MPA: 67.4% - MiOU: 64.5% } - lr: 0.001              \n",
            "[294/723] - 92s 312ms/step - train { loss: 0.00306 - MPA: 67.4% - MiOU: 64.5% } - lr: 0.001              \n",
            "[295/723] - 92s 312ms/step - train { loss: 0.00305 - MPA: 67.5% - MiOU: 64.6% } - lr: 0.001              \n",
            "[296/723] - 92s 312ms/step - train { loss: 0.00304 - MPA: 67.5% - MiOU: 64.6% } - lr: 0.001              \n",
            "[297/723] - 93s 313ms/step - train { loss: 0.00304 - MPA: 67.5% - MiOU: 64.6% } - lr: 0.001              \n",
            "[298/723] - 93s 312ms/step - train { loss: 0.00303 - MPA: 67.6% - MiOU: 64.7% } - lr: 0.001              \n",
            "[299/723] - 93s 312ms/step - train { loss: 0.00302 - MPA: 67.7% - MiOU: 64.7% } - lr: 0.001              \n",
            "[300/723] - 94s 312ms/step - train { loss: 0.00301 - MPA: 67.6% - MiOU: 64.7% } - lr: 0.001              \n",
            "[301/723] - 94s 312ms/step - train { loss: 0.003 - MPA: 67.7% - MiOU: 64.7% } - lr: 0.001              \n",
            "[302/723] - 94s 312ms/step - train { loss: 0.003 - MPA: 67.7% - MiOU: 64.8% } - lr: 0.001              \n",
            "[303/723] - 95s 312ms/step - train { loss: 0.00299 - MPA: 67.8% - MiOU: 64.8% } - lr: 0.001              \n",
            "[304/723] - 95s 312ms/step - train { loss: 0.00298 - MPA: 67.8% - MiOU: 64.8% } - lr: 0.001              \n",
            "[305/723] - 95s 312ms/step - train { loss: 0.00297 - MPA: 67.8% - MiOU: 64.9% } - lr: 0.001              \n",
            "[306/723] - 95s 312ms/step - train { loss: 0.00297 - MPA: 67.9% - MiOU: 64.9% } - lr: 0.001              \n",
            "[307/723] - 96s 312ms/step - train { loss: 0.00296 - MPA: 67.9% - MiOU: 64.9% } - lr: 0.001              \n",
            "[308/723] - 96s 312ms/step - train { loss: 0.00295 - MPA: 67.9% - MiOU: 64.9% } - lr: 0.001              \n",
            "[309/723] - 96s 312ms/step - train { loss: 0.00294 - MPA: 68% - MiOU: 65% } - lr: 0.001              \n",
            "[310/723] - 97s 312ms/step - train { loss: 0.00293 - MPA: 68% - MiOU: 65.1% } - lr: 0.001              \n",
            "[311/723] - 97s 312ms/step - train { loss: 0.00293 - MPA: 68% - MiOU: 65% } - lr: 0.001              \n",
            "[312/723] - 97s 312ms/step - train { loss: 0.00292 - MPA: 68.1% - MiOU: 65.1% } - lr: 0.001              \n",
            "[313/723] - 98s 312ms/step - train { loss: 0.00291 - MPA: 68.1% - MiOU: 65.1% } - lr: 0.001              \n",
            "[314/723] - 98s 312ms/step - train { loss: 0.0029 - MPA: 68.1% - MiOU: 65.1% } - lr: 0.001              \n",
            "[315/723] - 98s 312ms/step - train { loss: 0.0029 - MPA: 68.1% - MiOU: 65.1% } - lr: 0.001              \n",
            "[316/723] - 99s 312ms/step - train { loss: 0.00289 - MPA: 68.1% - MiOU: 65.1% } - lr: 0.001              \n",
            "[317/723] - 99s 312ms/step - train { loss: 0.00288 - MPA: 68.1% - MiOU: 65.1% } - lr: 0.001              \n",
            "[318/723] - 99s 312ms/step - train { loss: 0.00287 - MPA: 68.2% - MiOU: 65.2% } - lr: 0.001              \n",
            "[319/723] - 99s 312ms/step - train { loss: 0.00287 - MPA: 68.2% - MiOU: 65.2% } - lr: 0.001              \n",
            "[320/723] - 100s 312ms/step - train { loss: 0.00286 - MPA: 68.2% - MiOU: 65.2% } - lr: 0.001              \n",
            "[321/723] - 100s 312ms/step - train { loss: 0.00285 - MPA: 68.3% - MiOU: 65.3% } - lr: 0.001              \n",
            "[322/723] - 100s 312ms/step - train { loss: 0.00285 - MPA: 68.3% - MiOU: 65.3% } - lr: 0.001              \n",
            "[323/723] - 101s 312ms/step - train { loss: 0.00284 - MPA: 68.3% - MiOU: 65.3% } - lr: 0.001              \n",
            "[324/723] - 101s 312ms/step - train { loss: 0.00283 - MPA: 68.3% - MiOU: 65.3% } - lr: 0.001              \n",
            "[325/723] - 101s 312ms/step - train { loss: 0.00283 - MPA: 68.3% - MiOU: 65.4% } - lr: 0.001              \n",
            "[326/723] - 102s 312ms/step - train { loss: 0.00282 - MPA: 68.4% - MiOU: 65.4% } - lr: 0.001              \n",
            "[327/723] - 102s 312ms/step - train { loss: 0.00281 - MPA: 68.4% - MiOU: 65.4% } - lr: 0.001              \n",
            "[328/723] - 102s 312ms/step - train { loss: 0.00281 - MPA: 68.4% - MiOU: 65.4% } - lr: 0.001              \n",
            "[329/723] - 103s 312ms/step - train { loss: 0.0028 - MPA: 68.5% - MiOU: 65.5% } - lr: 0.001              \n",
            "[330/723] - 103s 312ms/step - train { loss: 0.00279 - MPA: 68.5% - MiOU: 65.5% } - lr: 0.001              \n",
            "[331/723] - 103s 312ms/step - train { loss: 0.00278 - MPA: 68.5% - MiOU: 65.5% } - lr: 0.001              \n",
            "[332/723] - 104s 312ms/step - train { loss: 0.00278 - MPA: 68.5% - MiOU: 65.5% } - lr: 0.001              \n",
            "[333/723] - 104s 312ms/step - train { loss: 0.00277 - MPA: 68.6% - MiOU: 65.6% } - lr: 0.001              \n",
            "[334/723] - 104s 313ms/step - train { loss: 0.00276 - MPA: 68.6% - MiOU: 65.6% } - lr: 0.001              \n",
            "[335/723] - 105s 313ms/step - train { loss: 0.00276 - MPA: 68.6% - MiOU: 65.6% } - lr: 0.001              \n",
            "[336/723] - 105s 313ms/step - train { loss: 0.00275 - MPA: 68.7% - MiOU: 65.7% } - lr: 0.001              \n",
            "[337/723] - 105s 313ms/step - train { loss: 0.00274 - MPA: 68.7% - MiOU: 65.7% } - lr: 0.001              \n",
            "[338/723] - 106s 313ms/step - train { loss: 0.00274 - MPA: 68.7% - MiOU: 65.7% } - lr: 0.001              \n",
            "[339/723] - 106s 313ms/step - train { loss: 0.00273 - MPA: 68.7% - MiOU: 65.7% } - lr: 0.001              \n",
            "[340/723] - 106s 313ms/step - train { loss: 0.00273 - MPA: 68.8% - MiOU: 65.8% } - lr: 0.001              \n",
            "[341/723] - 107s 313ms/step - train { loss: 0.00272 - MPA: 68.8% - MiOU: 65.8% } - lr: 0.001              \n",
            "[342/723] - 107s 313ms/step - train { loss: 0.00271 - MPA: 68.9% - MiOU: 65.8% } - lr: 0.001              \n",
            "[343/723] - 107s 313ms/step - train { loss: 0.00271 - MPA: 68.9% - MiOU: 65.9% } - lr: 0.001              \n",
            "[344/723] - 107s 312ms/step - train { loss: 0.0027 - MPA: 68.9% - MiOU: 65.9% } - lr: 0.001              \n",
            "[345/723] - 108s 312ms/step - train { loss: 0.0027 - MPA: 69% - MiOU: 65.9% } - lr: 0.001              \n",
            "[346/723] - 108s 312ms/step - train { loss: 0.00269 - MPA: 69% - MiOU: 66% } - lr: 0.001              \n",
            "[347/723] - 108s 312ms/step - train { loss: 0.00268 - MPA: 69% - MiOU: 66% } - lr: 0.001              \n",
            "[348/723] - 109s 312ms/step - train { loss: 0.00268 - MPA: 69% - MiOU: 66% } - lr: 0.001              \n",
            "[349/723] - 109s 312ms/step - train { loss: 0.00267 - MPA: 69.1% - MiOU: 66% } - lr: 0.001              \n",
            "[350/723] - 109s 312ms/step - train { loss: 0.00266 - MPA: 69.1% - MiOU: 66.1% } - lr: 0.001              \n",
            "[351/723] - 110s 312ms/step - train { loss: 0.00266 - MPA: 69.1% - MiOU: 66.1% } - lr: 0.001              \n",
            "[352/723] - 110s 312ms/step - train { loss: 0.00265 - MPA: 69.2% - MiOU: 66.1% } - lr: 0.001              \n",
            "[353/723] - 110s 312ms/step - train { loss: 0.00265 - MPA: 69.2% - MiOU: 66.2% } - lr: 0.001              \n",
            "[354/723] - 110s 312ms/step - train { loss: 0.00264 - MPA: 69.3% - MiOU: 66.2% } - lr: 0.001              \n",
            "[355/723] - 111s 312ms/step - train { loss: 0.00264 - MPA: 69.3% - MiOU: 66.2% } - lr: 0.001              \n",
            "[356/723] - 111s 312ms/step - train { loss: 0.00263 - MPA: 69.3% - MiOU: 66.3% } - lr: 0.001              \n",
            "[357/723] - 111s 312ms/step - train { loss: 0.00262 - MPA: 69.4% - MiOU: 66.3% } - lr: 0.001              \n",
            "[358/723] - 112s 312ms/step - train { loss: 0.00262 - MPA: 69.4% - MiOU: 66.3% } - lr: 0.001              \n",
            "[359/723] - 112s 312ms/step - train { loss: 0.00261 - MPA: 69.4% - MiOU: 66.4% } - lr: 0.001              \n",
            "[360/723] - 112s 312ms/step - train { loss: 0.00261 - MPA: 69.4% - MiOU: 66.4% } - lr: 0.001              \n",
            "[361/723] - 113s 312ms/step - train { loss: 0.0026 - MPA: 69.5% - MiOU: 66.4% } - lr: 0.001              \n",
            "[362/723] - 113s 312ms/step - train { loss: 0.0026 - MPA: 69.5% - MiOU: 66.5% } - lr: 0.001              \n",
            "[363/723] - 113s 312ms/step - train { loss: 0.00259 - MPA: 69.5% - MiOU: 66.5% } - lr: 0.001              \n",
            "[364/723] - 114s 312ms/step - train { loss: 0.00258 - MPA: 69.6% - MiOU: 66.5% } - lr: 0.001              \n",
            "[365/723] - 114s 312ms/step - train { loss: 0.00258 - MPA: 69.6% - MiOU: 66.5% } - lr: 0.001              \n",
            "[366/723] - 114s 312ms/step - train { loss: 0.00257 - MPA: 69.6% - MiOU: 66.5% } - lr: 0.001              \n",
            "[367/723] - 115s 312ms/step - train { loss: 0.00257 - MPA: 69.7% - MiOU: 66.6% } - lr: 0.001              \n",
            "[368/723] - 115s 312ms/step - train { loss: 0.00256 - MPA: 69.7% - MiOU: 66.6% } - lr: 0.001              \n",
            "[369/723] - 115s 312ms/step - train { loss: 0.00256 - MPA: 69.7% - MiOU: 66.6% } - lr: 0.001              \n",
            "[370/723] - 116s 312ms/step - train { loss: 0.00255 - MPA: 69.8% - MiOU: 66.7% } - lr: 0.001              \n",
            "[371/723] - 116s 313ms/step - train { loss: 0.00254 - MPA: 69.8% - MiOU: 66.7% } - lr: 0.001              \n",
            "[372/723] - 116s 313ms/step - train { loss: 0.00254 - MPA: 69.8% - MiOU: 66.7% } - lr: 0.001              \n",
            "[373/723] - 117s 313ms/step - train { loss: 0.00253 - MPA: 69.8% - MiOU: 66.7% } - lr: 0.001              \n",
            "[374/723] - 117s 313ms/step - train { loss: 0.00253 - MPA: 69.8% - MiOU: 66.7% } - lr: 0.001              \n",
            "[375/723] - 117s 313ms/step - train { loss: 0.00252 - MPA: 69.8% - MiOU: 66.7% } - lr: 0.001              \n",
            "[376/723] - 118s 313ms/step - train { loss: 0.00252 - MPA: 69.8% - MiOU: 66.7% } - lr: 0.001              \n",
            "[377/723] - 118s 313ms/step - train { loss: 0.00251 - MPA: 69.8% - MiOU: 66.7% } - lr: 0.001              \n",
            "[378/723] - 118s 313ms/step - train { loss: 0.00251 - MPA: 69.9% - MiOU: 66.8% } - lr: 0.001              \n",
            "[379/723] - 118s 313ms/step - train { loss: 0.0025 - MPA: 69.9% - MiOU: 66.8% } - lr: 0.001              \n",
            "[380/723] - 119s 313ms/step - train { loss: 0.0025 - MPA: 69.9% - MiOU: 66.8% } - lr: 0.001              \n",
            "[381/723] - 119s 313ms/step - train { loss: 0.00249 - MPA: 70% - MiOU: 66.8% } - lr: 0.001              \n",
            "[382/723] - 119s 313ms/step - train { loss: 0.00249 - MPA: 70% - MiOU: 66.9% } - lr: 0.001              \n",
            "[383/723] - 120s 312ms/step - train { loss: 0.00248 - MPA: 70% - MiOU: 66.9% } - lr: 0.001              \n",
            "[384/723] - 120s 312ms/step - train { loss: 0.00248 - MPA: 70.1% - MiOU: 66.9% } - lr: 0.001              \n",
            "[385/723] - 120s 312ms/step - train { loss: 0.00247 - MPA: 70.1% - MiOU: 67% } - lr: 0.001              \n",
            "[386/723] - 121s 312ms/step - train { loss: 0.00247 - MPA: 70.1% - MiOU: 67% } - lr: 0.001              \n",
            "[387/723] - 121s 312ms/step - train { loss: 0.00246 - MPA: 70.1% - MiOU: 67% } - lr: 0.001              \n",
            "[388/723] - 121s 312ms/step - train { loss: 0.00246 - MPA: 70.2% - MiOU: 67% } - lr: 0.001              \n",
            "[389/723] - 121s 312ms/step - train { loss: 0.00245 - MPA: 70.2% - MiOU: 67% } - lr: 0.001              \n",
            "[390/723] - 122s 312ms/step - train { loss: 0.00245 - MPA: 70.2% - MiOU: 67.1% } - lr: 0.001              \n",
            "[391/723] - 122s 312ms/step - train { loss: 0.00244 - MPA: 70.2% - MiOU: 67.1% } - lr: 0.001              \n",
            "[392/723] - 122s 312ms/step - train { loss: 0.00244 - MPA: 70.3% - MiOU: 67.1% } - lr: 0.001              \n",
            "[393/723] - 123s 312ms/step - train { loss: 0.00243 - MPA: 70.3% - MiOU: 67.2% } - lr: 0.001              \n",
            "[394/723] - 123s 312ms/step - train { loss: 0.00243 - MPA: 70.4% - MiOU: 67.2% } - lr: 0.001              \n",
            "[395/723] - 123s 312ms/step - train { loss: 0.00242 - MPA: 70.4% - MiOU: 67.3% } - lr: 0.001              \n",
            "[396/723] - 124s 312ms/step - train { loss: 0.00242 - MPA: 70.4% - MiOU: 67.3% } - lr: 0.001              \n",
            "[397/723] - 124s 312ms/step - train { loss: 0.00241 - MPA: 70.5% - MiOU: 67.3% } - lr: 0.001              \n",
            "[398/723] - 124s 312ms/step - train { loss: 0.00241 - MPA: 70.5% - MiOU: 67.3% } - lr: 0.001              \n",
            "[399/723] - 124s 312ms/step - train { loss: 0.0024 - MPA: 70.5% - MiOU: 67.3% } - lr: 0.001              \n",
            "[400/723] - 125s 312ms/step - train { loss: 0.0024 - MPA: 70.5% - MiOU: 67.3% } - lr: 0.001              \n",
            "[401/723] - 125s 312ms/step - train { loss: 0.00239 - MPA: 70.5% - MiOU: 67.4% } - lr: 0.001              \n",
            "[402/723] - 125s 312ms/step - train { loss: 0.00239 - MPA: 70.5% - MiOU: 67.4% } - lr: 0.001              \n",
            "[403/723] - 126s 312ms/step - train { loss: 0.00238 - MPA: 70.6% - MiOU: 67.4% } - lr: 0.001              \n",
            "[404/723] - 126s 312ms/step - train { loss: 0.00238 - MPA: 70.6% - MiOU: 67.4% } - lr: 0.001              \n",
            "[405/723] - 126s 312ms/step - train { loss: 0.00237 - MPA: 70.6% - MiOU: 67.4% } - lr: 0.001              \n",
            "[406/723] - 127s 312ms/step - train { loss: 0.00237 - MPA: 70.7% - MiOU: 67.5% } - lr: 0.001              \n",
            "[407/723] - 127s 312ms/step - train { loss: 0.00236 - MPA: 70.7% - MiOU: 67.5% } - lr: 0.001              \n",
            "[408/723] - 127s 312ms/step - train { loss: 0.00236 - MPA: 70.7% - MiOU: 67.5% } - lr: 0.001              \n",
            "[409/723] - 128s 312ms/step - train { loss: 0.00236 - MPA: 70.7% - MiOU: 67.6% } - lr: 0.001              \n",
            "[410/723] - 128s 312ms/step - train { loss: 0.00235 - MPA: 70.7% - MiOU: 67.6% } - lr: 0.001              \n",
            "[411/723] - 128s 312ms/step - train { loss: 0.00234 - MPA: 70.8% - MiOU: 67.6% } - lr: 0.001              \n",
            "[412/723] - 129s 312ms/step - train { loss: 0.00234 - MPA: 70.8% - MiOU: 67.6% } - lr: 0.001              \n",
            "[413/723] - 129s 312ms/step - train { loss: 0.00234 - MPA: 70.8% - MiOU: 67.6% } - lr: 0.001              \n",
            "[414/723] - 129s 312ms/step - train { loss: 0.00233 - MPA: 70.8% - MiOU: 67.6% } - lr: 0.001              \n",
            "[415/723] - 130s 313ms/step - train { loss: 0.00233 - MPA: 70.8% - MiOU: 67.6% } - lr: 0.001              \n",
            "[416/723] - 130s 313ms/step - train { loss: 0.00232 - MPA: 70.9% - MiOU: 67.7% } - lr: 0.001              \n",
            "[417/723] - 130s 313ms/step - train { loss: 0.00232 - MPA: 70.9% - MiOU: 67.7% } - lr: 0.001              \n",
            "[418/723] - 131s 313ms/step - train { loss: 0.00232 - MPA: 70.9% - MiOU: 67.7% } - lr: 0.001              \n",
            "[419/723] - 131s 313ms/step - train { loss: 0.00231 - MPA: 70.9% - MiOU: 67.7% } - lr: 0.001              \n",
            "[420/723] - 131s 312ms/step - train { loss: 0.00231 - MPA: 70.9% - MiOU: 67.7% } - lr: 0.001              \n",
            "[421/723] - 132s 312ms/step - train { loss: 0.0023 - MPA: 70.9% - MiOU: 67.8% } - lr: 0.001              \n",
            "[422/723] - 132s 312ms/step - train { loss: 0.0023 - MPA: 71% - MiOU: 67.8% } - lr: 0.001              \n",
            "[423/723] - 132s 312ms/step - train { loss: 0.00229 - MPA: 71% - MiOU: 67.8% } - lr: 0.001              \n",
            "[424/723] - 132s 312ms/step - train { loss: 0.00229 - MPA: 71% - MiOU: 67.8% } - lr: 0.001              \n",
            "[425/723] - 133s 312ms/step - train { loss: 0.00229 - MPA: 71% - MiOU: 67.8% } - lr: 0.001              \n",
            "[426/723] - 133s 312ms/step - train { loss: 0.00228 - MPA: 71.1% - MiOU: 67.9% } - lr: 0.001              \n",
            "[427/723] - 133s 312ms/step - train { loss: 0.00228 - MPA: 71.1% - MiOU: 67.9% } - lr: 0.001              \n",
            "[428/723] - 134s 312ms/step - train { loss: 0.00228 - MPA: 71.1% - MiOU: 67.9% } - lr: 0.001              \n",
            "[429/723] - 134s 312ms/step - train { loss: 0.00227 - MPA: 71.1% - MiOU: 67.9% } - lr: 0.001              \n",
            "[430/723] - 134s 312ms/step - train { loss: 0.00227 - MPA: 71.2% - MiOU: 68% } - lr: 0.001              \n",
            "[431/723] - 135s 312ms/step - train { loss: 0.00226 - MPA: 71.2% - MiOU: 68% } - lr: 0.001              \n",
            "[432/723] - 135s 312ms/step - train { loss: 0.00226 - MPA: 71.2% - MiOU: 68% } - lr: 0.001              \n",
            "[433/723] - 135s 312ms/step - train { loss: 0.00225 - MPA: 71.2% - MiOU: 68% } - lr: 0.001              \n",
            "[434/723] - 135s 312ms/step - train { loss: 0.00225 - MPA: 71.3% - MiOU: 68% } - lr: 0.001              \n",
            "[435/723] - 136s 312ms/step - train { loss: 0.00225 - MPA: 71.3% - MiOU: 68.1% } - lr: 0.001              \n",
            "[436/723] - 136s 312ms/step - train { loss: 0.00224 - MPA: 71.3% - MiOU: 68.1% } - lr: 0.001              \n",
            "[437/723] - 136s 312ms/step - train { loss: 0.00224 - MPA: 71.3% - MiOU: 68.1% } - lr: 0.001              \n",
            "[438/723] - 137s 312ms/step - train { loss: 0.00223 - MPA: 71.4% - MiOU: 68.1% } - lr: 0.001              \n",
            "[439/723] - 137s 312ms/step - train { loss: 0.00223 - MPA: 71.4% - MiOU: 68.1% } - lr: 0.001              \n",
            "[440/723] - 137s 312ms/step - train { loss: 0.00223 - MPA: 71.4% - MiOU: 68.1% } - lr: 0.001              \n",
            "[441/723] - 138s 312ms/step - train { loss: 0.00222 - MPA: 71.4% - MiOU: 68.1% } - lr: 0.001              \n",
            "[442/723] - 138s 312ms/step - train { loss: 0.00222 - MPA: 71.4% - MiOU: 68.1% } - lr: 0.001              \n",
            "[443/723] - 138s 312ms/step - train { loss: 0.00221 - MPA: 71.4% - MiOU: 68.2% } - lr: 0.001              \n",
            "[444/723] - 138s 312ms/step - train { loss: 0.00221 - MPA: 71.5% - MiOU: 68.2% } - lr: 0.001              \n",
            "[445/723] - 139s 312ms/step - train { loss: 0.00221 - MPA: 71.5% - MiOU: 68.2% } - lr: 0.001              \n",
            "[446/723] - 139s 312ms/step - train { loss: 0.0022 - MPA: 71.5% - MiOU: 68.2% } - lr: 0.001              \n",
            "[447/723] - 139s 312ms/step - train { loss: 0.0022 - MPA: 71.5% - MiOU: 68.2% } - lr: 0.001              \n",
            "[448/723] - 140s 312ms/step - train { loss: 0.00219 - MPA: 71.5% - MiOU: 68.2% } - lr: 0.001              \n",
            "[449/723] - 140s 312ms/step - train { loss: 0.00219 - MPA: 71.5% - MiOU: 68.3% } - lr: 0.001              \n",
            "[450/723] - 140s 312ms/step - train { loss: 0.00219 - MPA: 71.6% - MiOU: 68.3% } - lr: 0.001              \n",
            "[451/723] - 141s 312ms/step - train { loss: 0.00218 - MPA: 71.6% - MiOU: 68.3% } - lr: 0.001              \n",
            "[452/723] - 141s 312ms/step - train { loss: 0.00218 - MPA: 71.6% - MiOU: 68.3% } - lr: 0.001              \n",
            "[453/723] - 141s 312ms/step - train { loss: 0.00218 - MPA: 71.6% - MiOU: 68.3% } - lr: 0.001              \n",
            "[454/723] - 142s 312ms/step - train { loss: 0.00217 - MPA: 71.6% - MiOU: 68.3% } - lr: 0.001              \n",
            "[455/723] - 142s 312ms/step - train { loss: 0.00217 - MPA: 71.6% - MiOU: 68.3% } - lr: 0.001              \n",
            "[456/723] - 142s 312ms/step - train { loss: 0.00217 - MPA: 71.6% - MiOU: 68.3% } - lr: 0.001              \n",
            "[457/723] - 143s 312ms/step - train { loss: 0.00216 - MPA: 71.6% - MiOU: 68.3% } - lr: 0.001              \n",
            "[458/723] - 143s 312ms/step - train { loss: 0.00216 - MPA: 71.6% - MiOU: 68.4% } - lr: 0.001              \n",
            "[459/723] - 143s 312ms/step - train { loss: 0.00216 - MPA: 71.7% - MiOU: 68.4% } - lr: 0.001              \n",
            "[460/723] - 143s 312ms/step - train { loss: 0.00215 - MPA: 71.7% - MiOU: 68.4% } - lr: 0.001              \n",
            "[461/723] - 144s 312ms/step - train { loss: 0.00215 - MPA: 71.7% - MiOU: 68.4% } - lr: 0.001              \n",
            "[462/723] - 144s 312ms/step - train { loss: 0.00215 - MPA: 71.7% - MiOU: 68.4% } - lr: 0.001              \n",
            "[463/723] - 144s 312ms/step - train { loss: 0.00214 - MPA: 71.8% - MiOU: 68.5% } - lr: 0.001              \n",
            "[464/723] - 145s 312ms/step - train { loss: 0.00214 - MPA: 71.8% - MiOU: 68.5% } - lr: 0.001              \n",
            "[465/723] - 145s 312ms/step - train { loss: 0.00214 - MPA: 71.8% - MiOU: 68.5% } - lr: 0.001              \n",
            "[466/723] - 145s 312ms/step - train { loss: 0.00213 - MPA: 71.9% - MiOU: 68.5% } - lr: 0.001              \n",
            "[467/723] - 146s 312ms/step - train { loss: 0.00213 - MPA: 71.9% - MiOU: 68.5% } - lr: 0.001              \n",
            "[468/723] - 146s 312ms/step - train { loss: 0.00213 - MPA: 71.9% - MiOU: 68.5% } - lr: 0.001              \n",
            "[469/723] - 146s 312ms/step - train { loss: 0.00212 - MPA: 72% - MiOU: 68.6% } - lr: 0.001              \n",
            "[470/723] - 146s 312ms/step - train { loss: 0.00212 - MPA: 72% - MiOU: 68.6% } - lr: 0.001              \n",
            "[471/723] - 147s 312ms/step - train { loss: 0.00211 - MPA: 72% - MiOU: 68.6% } - lr: 0.001              \n",
            "[472/723] - 147s 312ms/step - train { loss: 0.00211 - MPA: 72% - MiOU: 68.6% } - lr: 0.001              \n",
            "[473/723] - 147s 312ms/step - train { loss: 0.00211 - MPA: 72% - MiOU: 68.6% } - lr: 0.001              \n",
            "[474/723] - 148s 312ms/step - train { loss: 0.0021 - MPA: 72% - MiOU: 68.6% } - lr: 0.001              \n",
            "[475/723] - 148s 312ms/step - train { loss: 0.0021 - MPA: 72.1% - MiOU: 68.6% } - lr: 0.001              \n",
            "[476/723] - 148s 311ms/step - train { loss: 0.0021 - MPA: 72.1% - MiOU: 68.6% } - lr: 0.001              \n",
            "[477/723] - 149s 311ms/step - train { loss: 0.00209 - MPA: 72.1% - MiOU: 68.6% } - lr: 0.001              \n",
            "[478/723] - 149s 311ms/step - train { loss: 0.00209 - MPA: 72.1% - MiOU: 68.6% } - lr: 0.001              \n",
            "[479/723] - 149s 311ms/step - train { loss: 0.00209 - MPA: 72.1% - MiOU: 68.6% } - lr: 0.001              \n",
            "[480/723] - 149s 311ms/step - train { loss: 0.00208 - MPA: 72.1% - MiOU: 68.7% } - lr: 0.001              \n",
            "[481/723] - 150s 311ms/step - train { loss: 0.00208 - MPA: 72.1% - MiOU: 68.7% } - lr: 0.001              \n",
            "[482/723] - 150s 311ms/step - train { loss: 0.00208 - MPA: 72.1% - MiOU: 68.7% } - lr: 0.001              \n",
            "[483/723] - 150s 311ms/step - train { loss: 0.00208 - MPA: 72.1% - MiOU: 68.7% } - lr: 0.001              \n",
            "[484/723] - 151s 311ms/step - train { loss: 0.00207 - MPA: 72.2% - MiOU: 68.7% } - lr: 0.001              \n",
            "[485/723] - 151s 311ms/step - train { loss: 0.00207 - MPA: 72.2% - MiOU: 68.7% } - lr: 0.001              \n",
            "[486/723] - 151s 311ms/step - train { loss: 0.00207 - MPA: 72.2% - MiOU: 68.8% } - lr: 0.001              \n",
            "[487/723] - 152s 311ms/step - train { loss: 0.00206 - MPA: 72.2% - MiOU: 68.8% } - lr: 0.001              \n",
            "[488/723] - 152s 311ms/step - train { loss: 0.00206 - MPA: 72.2% - MiOU: 68.8% } - lr: 0.001              \n",
            "[489/723] - 152s 311ms/step - train { loss: 0.00206 - MPA: 72.2% - MiOU: 68.8% } - lr: 0.001              \n",
            "[490/723] - 153s 311ms/step - train { loss: 0.00205 - MPA: 72.3% - MiOU: 68.8% } - lr: 0.001              \n"
          ]
        }
      ],
      "source": [
        "EPOCHS = 30\n",
        "\n",
        "train(model.to('cuda'), optimizer, lr_schedulers, train_loader, val_loader, 30, 'cuda', None, False)"
      ]
    },
    {
      "cell_type": "code",
      "source": [
        "x, y_true = next(iter(test_loader))\n",
        "y_pred = model(x.to('cuda'))"
      ],
      "metadata": {
        "id": "MsdgZSvdKDQg"
      },
      "execution_count": 94,
      "outputs": []
    },
    {
      "cell_type": "code",
      "source": [
        "mpa = MPA()\n",
        "mpa(y_pred.to('cuda'), y_true.to('cuda'))"
      ],
      "metadata": {
        "id": "UAwcocsVNQMZ",
        "outputId": "d7d3f518-05eb-49da-d785-1a527ec79170",
        "colab": {
          "base_uri": "https://localhost:8080/"
        }
      },
      "execution_count": 85,
      "outputs": [
        {
          "output_type": "execute_result",
          "data": {
            "text/plain": [
              "tensor(0.6834, device='cuda:0')"
            ]
          },
          "metadata": {},
          "execution_count": 85
        }
      ]
    },
    {
      "cell_type": "code",
      "source": [
        "miou = MIoU()\n",
        "miou(y_pred.to('cuda'), y_true.to('cuda')) #0.6103"
      ],
      "metadata": {
        "id": "g30vDT5jNQgZ",
        "outputId": "074b05e7-a75a-45bb-837d-eeb400bb4d05",
        "colab": {
          "base_uri": "https://localhost:8080/"
        }
      },
      "execution_count": 99,
      "outputs": [
        {
          "output_type": "execute_result",
          "data": {
            "text/plain": [
              "tensor(0.8041, device='cuda:0')"
            ]
          },
          "metadata": {},
          "execution_count": 99
        }
      ]
    },
    {
      "cell_type": "code",
      "source": [
        "y_true = y_true.permute(0, 2, 3, 1)[...,1]\n",
        "y_true.shape"
      ],
      "metadata": {
        "id": "uy0voemRKUAI",
        "outputId": "aabe1d4d-92b3-4ac9-af16-614e308ac261",
        "colab": {
          "base_uri": "https://localhost:8080/"
        }
      },
      "execution_count": 88,
      "outputs": [
        {
          "output_type": "execute_result",
          "data": {
            "text/plain": [
              "torch.Size([4, 512, 512])"
            ]
          },
          "metadata": {},
          "execution_count": 88
        }
      ]
    },
    {
      "cell_type": "code",
      "source": [
        "y_pred = y_pred.argmax(-3)\n",
        "y_pred.shape"
      ],
      "metadata": {
        "id": "-vXlNKheLlVw",
        "outputId": "a9ff3a4c-02e4-45a1-9719-ff2f3310cb45",
        "colab": {
          "base_uri": "https://localhost:8080/"
        }
      },
      "execution_count": 89,
      "outputs": [
        {
          "output_type": "execute_result",
          "data": {
            "text/plain": [
              "torch.Size([4, 512, 512])"
            ]
          },
          "metadata": {},
          "execution_count": 89
        }
      ]
    },
    {
      "cell_type": "code",
      "source": [
        "y_pred[0].cpu().numpy().shape"
      ],
      "metadata": {
        "id": "9Spxo27nMsCa",
        "outputId": "34695b5d-113a-4477-e4b4-689ba3f2daba",
        "colab": {
          "base_uri": "https://localhost:8080/"
        }
      },
      "execution_count": null,
      "outputs": [
        {
          "output_type": "execute_result",
          "data": {
            "text/plain": [
              "(512, 512)"
            ]
          },
          "metadata": {},
          "execution_count": 92
        }
      ]
    },
    {
      "cell_type": "code",
      "source": [
        "x = x.permute(0, 2, 3, 1)"
      ],
      "metadata": {
        "id": "TgC-B5WbLbTx"
      },
      "execution_count": null,
      "outputs": []
    },
    {
      "cell_type": "code",
      "source": [],
      "metadata": {
        "id": "2uq70wDoNKUx",
        "outputId": "c581ab07-bd48-44b5-a75f-054d8458c2f3",
        "colab": {
          "base_uri": "https://localhost:8080/",
          "height": 344
        }
      },
      "execution_count": null,
      "outputs": [
        {
          "output_type": "error",
          "ename": "RuntimeError",
          "evalue": "ignored",
          "traceback": [
            "\u001b[0;31m---------------------------------------------------------------------------\u001b[0m",
            "\u001b[0;31mRuntimeError\u001b[0m                              Traceback (most recent call last)",
            "\u001b[0;32m<ipython-input-86-64b8001332c8>\u001b[0m in \u001b[0;36m<module>\u001b[0;34m\u001b[0m\n\u001b[1;32m      1\u001b[0m \u001b[0mmiou\u001b[0m \u001b[0;34m=\u001b[0m \u001b[0mMIoU\u001b[0m\u001b[0;34m(\u001b[0m\u001b[0;34m)\u001b[0m\u001b[0;34m\u001b[0m\u001b[0;34m\u001b[0m\u001b[0m\n\u001b[0;32m----> 2\u001b[0;31m \u001b[0mmiou\u001b[0m\u001b[0;34m(\u001b[0m\u001b[0my_true\u001b[0m\u001b[0;34m,\u001b[0m \u001b[0my_true\u001b[0m\u001b[0;34m)\u001b[0m\u001b[0;34m\u001b[0m\u001b[0;34m\u001b[0m\u001b[0m\n\u001b[0m",
            "\u001b[0;32m/usr/local/lib/python3.9/dist-packages/torch/nn/modules/module.py\u001b[0m in \u001b[0;36m_call_impl\u001b[0;34m(self, *input, **kwargs)\u001b[0m\n\u001b[1;32m   1192\u001b[0m         if not (self._backward_hooks or self._forward_hooks or self._forward_pre_hooks or _global_backward_hooks\n\u001b[1;32m   1193\u001b[0m                 or _global_forward_hooks or _global_forward_pre_hooks):\n\u001b[0;32m-> 1194\u001b[0;31m             \u001b[0;32mreturn\u001b[0m \u001b[0mforward_call\u001b[0m\u001b[0;34m(\u001b[0m\u001b[0;34m*\u001b[0m\u001b[0minput\u001b[0m\u001b[0;34m,\u001b[0m \u001b[0;34m**\u001b[0m\u001b[0mkwargs\u001b[0m\u001b[0;34m)\u001b[0m\u001b[0;34m\u001b[0m\u001b[0;34m\u001b[0m\u001b[0m\n\u001b[0m\u001b[1;32m   1195\u001b[0m         \u001b[0;31m# Do not call functions when jit is used\u001b[0m\u001b[0;34m\u001b[0m\u001b[0;34m\u001b[0m\u001b[0m\n\u001b[1;32m   1196\u001b[0m         \u001b[0mfull_backward_hooks\u001b[0m\u001b[0;34m,\u001b[0m \u001b[0mnon_full_backward_hooks\u001b[0m \u001b[0;34m=\u001b[0m \u001b[0;34m[\u001b[0m\u001b[0;34m]\u001b[0m\u001b[0;34m,\u001b[0m \u001b[0;34m[\u001b[0m\u001b[0;34m]\u001b[0m\u001b[0;34m\u001b[0m\u001b[0;34m\u001b[0m\u001b[0m\n",
            "\u001b[0;32m<ipython-input-45-2c6d8ad711e7>\u001b[0m in \u001b[0;36mforward\u001b[0;34m(self, y_pred, y_true)\u001b[0m\n\u001b[1;32m     10\u001b[0m             \u001b[0my_true\u001b[0m \u001b[0;34m=\u001b[0m \u001b[0my_true\u001b[0m\u001b[0;34m[\u001b[0m\u001b[0;34m:\u001b[0m\u001b[0;34m,\u001b[0m\u001b[0;36m1\u001b[0m\u001b[0;34m]\u001b[0m\u001b[0;34m.\u001b[0m\u001b[0mbool\u001b[0m\u001b[0;34m(\u001b[0m\u001b[0;34m)\u001b[0m\u001b[0;34m\u001b[0m\u001b[0;34m\u001b[0m\u001b[0m\n\u001b[1;32m     11\u001b[0m \u001b[0;34m\u001b[0m\u001b[0m\n\u001b[0;32m---> 12\u001b[0;31m             \u001b[0mintersection\u001b[0m \u001b[0;34m=\u001b[0m \u001b[0;34m(\u001b[0m\u001b[0my_pred\u001b[0m \u001b[0;34m&\u001b[0m \u001b[0my_true\u001b[0m\u001b[0;34m)\u001b[0m\u001b[0;34m.\u001b[0m\u001b[0msum\u001b[0m\u001b[0;34m(\u001b[0m\u001b[0;34m-\u001b[0m\u001b[0;36m3\u001b[0m\u001b[0;34m)\u001b[0m\u001b[0;34m\u001b[0m\u001b[0;34m\u001b[0m\u001b[0m\n\u001b[0m\u001b[1;32m     13\u001b[0m             \u001b[0munion\u001b[0m \u001b[0;34m=\u001b[0m \u001b[0;34m(\u001b[0m\u001b[0my_pred\u001b[0m \u001b[0;34m|\u001b[0m \u001b[0my_true\u001b[0m\u001b[0;34m)\u001b[0m\u001b[0;34m.\u001b[0m\u001b[0msum\u001b[0m\u001b[0;34m(\u001b[0m\u001b[0;34m-\u001b[0m\u001b[0;36m3\u001b[0m\u001b[0;34m)\u001b[0m\u001b[0;34m\u001b[0m\u001b[0;34m\u001b[0m\u001b[0m\n\u001b[1;32m     14\u001b[0m \u001b[0;34m\u001b[0m\u001b[0m\n",
            "\u001b[0;31mRuntimeError\u001b[0m: The size of tensor a (512) must match the size of tensor b (4) at non-singleton dimension 0"
          ]
        }
      ]
    },
    {
      "cell_type": "code",
      "source": [
        "for i, (x, t, p) in enumerate(zip(x, y_true, y_pred)):\n",
        "    #print(x.shape)\n",
        "    #plt.imshow(cv2.cvtColor(x.cpu().numpy(), cv2.COLOR_BGR2RGB))\n",
        "    #plt.show()\n",
        "    print('y true')\n",
        "    plt.imshow(y_true[i].cpu().numpy(), cmap='gray', vmin=0., vmax=1.)\n",
        "    plt.show()\n",
        "    print('y pred')\n",
        "    plt.imshow(y_pred[i].cpu().numpy(), cmap='gray', vmin=0., vmax=1.)\n",
        "    plt.show()"
      ],
      "metadata": {
        "id": "JjM0z0uGLG8-",
        "outputId": "3dba842c-01a9-4cb8-f4f3-558ab810bfde",
        "colab": {
          "base_uri": "https://localhost:8080/",
          "height": 1000
        }
      },
      "execution_count": 90,
      "outputs": [
        {
          "output_type": "stream",
          "name": "stdout",
          "text": [
            "y true\n"
          ]
        },
        {
          "output_type": "display_data",
          "data": {
            "text/plain": [
              "<Figure size 432x288 with 1 Axes>"
            ],
            "image/png": "[encoded data removed]"
          },
          "metadata": {
            "needs_background": "light"
          }
        },
        {
          "output_type": "stream",
          "name": "stdout",
          "text": [
            "y pred\n"
          ]
        },
        {
          "output_type": "display_data",
          "data": {
            "text/plain": [
              "<Figure size 432x288 with 1 Axes>"
            ],
            "image/png": "[encoded data removed]"
          },
          "metadata": {
            "needs_background": "light"
          }
        },
        {
          "output_type": "stream",
          "name": "stdout",
          "text": [
            "y true\n"
          ]
        },
        {
          "output_type": "display_data",
          "data": {
            "text/plain": [
              "<Figure size 432x288 with 1 Axes>"
            ],
            "image/png": "[encoded data removed]"
          },
          "metadata": {
            "needs_background": "light"
          }
        },
        {
          "output_type": "stream",
          "name": "stdout",
          "text": [
            "y pred\n"
          ]
        },
        {
          "output_type": "display_data",
          "data": {
            "text/plain": [
              "<Figure size 432x288 with 1 Axes>"
            ],
            "image/png": "[encoded data removed]"
          },
          "metadata": {
            "needs_background": "light"
          }
        },
        {
          "output_type": "stream",
          "name": "stdout",
          "text": [
            "y true\n"
          ]
        },
        {
          "output_type": "display_data",
          "data": {
            "text/plain": [
              "<Figure size 432x288 with 1 Axes>"
            ],
            "image/png": "[encoded data removed]"
          },
          "metadata": {
            "needs_background": "light"
          }
        },
        {
          "output_type": "stream",
          "name": "stdout",
          "text": [
            "y pred\n"
          ]
        },
        {
          "output_type": "display_data",
          "data": {
            "text/plain": [
              "<Figure size 432x288 with 1 Axes>"
            ],
            "image/png": "[encoded data removed]"
          },
          "metadata": {
            "needs_background": "light"
          }
        },
        {
          "output_type": "stream",
          "name": "stdout",
          "text": [
            "y true\n"
          ]
        },
        {
          "output_type": "display_data",
          "data": {
            "text/plain": [
              "<Figure size 432x288 with 1 Axes>"
            ],
            "image/png": "[encoded data removed]"
          },
          "metadata": {
            "needs_background": "light"
          }
        },
        {
          "output_type": "stream",
          "name": "stdout",
          "text": [
            "y pred\n"
          ]
        },
        {
          "output_type": "display_data",
          "data": {
            "text/plain": [
              "<Figure size 432x288 with 1 Axes>"
            ],
            "image/png": "[encoded data removed]"
          },
          "metadata": {
            "needs_background": "light"
          }
        }
      ]
    },
    {
      "cell_type": "code",
      "source": [],
      "metadata": {
        "id": "1-oDlQ4zKqsA"
      },
      "execution_count": null,
      "outputs": []
    },
    {
      "cell_type": "code",
      "source": [
        "torch.save(model.state_dict(), '/content/drive/MyDrive/fire-segmentation/model.ckpt')"
      ],
      "metadata": {
        "id": "BxwtKaAut54P"
      },
      "execution_count": null,
      "outputs": []
    },
    {
      "cell_type": "code",
      "source": [
        "torch.cuda.empty_cache()\n",
        "del model"
      ],
      "metadata": {
        "id": "atZG_ns67h07",
        "outputId": "26931fac-7419-4e45-898e-619e7c8b285a",
        "colab": {
          "base_uri": "https://localhost:8080/",
          "height": 190
        }
      },
      "execution_count": null,
      "outputs": [
        {
          "output_type": "error",
          "ename": "NameError",
          "evalue": "ignored",
          "traceback": [
            "\u001b[0;31m---------------------------------------------------------------------------\u001b[0m",
            "\u001b[0;31mNameError\u001b[0m                                 Traceback (most recent call last)",
            "\u001b[0;32m<ipython-input-88-bafc45008a1d>\u001b[0m in \u001b[0;36m<module>\u001b[0;34m\u001b[0m\n\u001b[1;32m      1\u001b[0m \u001b[0mtorch\u001b[0m\u001b[0;34m.\u001b[0m\u001b[0mcuda\u001b[0m\u001b[0;34m.\u001b[0m\u001b[0mempty_cache\u001b[0m\u001b[0;34m(\u001b[0m\u001b[0;34m)\u001b[0m\u001b[0;34m\u001b[0m\u001b[0;34m\u001b[0m\u001b[0m\n\u001b[0;32m----> 2\u001b[0;31m \u001b[0;32mdel\u001b[0m \u001b[0mmodel\u001b[0m\u001b[0;34m\u001b[0m\u001b[0;34m\u001b[0m\u001b[0m\n\u001b[0m",
            "\u001b[0;31mNameError\u001b[0m: name 'model' is not defined"
          ]
        }
      ]
    },
    {
      "cell_type": "code",
      "source": [
        "from numba import cuda \n",
        "device = cuda.get_current_device()\n",
        "device.reset()"
      ],
      "metadata": {
        "id": "PcCUyRtcNv3B"
      },
      "execution_count": null,
      "outputs": []
    }
  ],
  "metadata": {
    "colab": {
      "provenance": [],
      "machine_shape": "hm",
      "include_colab_link": true
    },
    "kernelspec": {
      "display_name": "Python 3",
      "name": "python3"
    },
    "language_info": {
      "codemirror_mode": {
        "name": "ipython",
        "version": 3
      },
      "file_extension": ".py",
      "mimetype": "text/x-python",
      "name": "python",
      "nbconvert_exporter": "python",
      "pygments_lexer": "ipython3",
      "version": "3.10.0"
    },
    "accelerator": "GPU",
    "gpuClass": "standard",
    "widgets": {
      "application/vnd.jupyter.widget-state+json": {
        "c92c9e6a3fbd40aabcc9d572b6153255": {
          "model_module": "@jupyter-widgets/controls",
          "model_name": "HBoxModel",
          "model_module_version": "1.5.0",
          "state": {
            "_dom_classes": [],
            "_model_module": "@jupyter-widgets/controls",
            "_model_module_version": "1.5.0",
            "_model_name": "HBoxModel",
            "_view_count": null,
            "_view_module": "@jupyter-widgets/controls",
            "_view_module_version": "1.5.0",
            "_view_name": "HBoxView",
            "box_style": "",
            "children": [
              "IPY_MODEL_c5630a37a19f4994a02a6eea16c6dac6",
              "IPY_MODEL_1fe2f33d0c7c4371a6423fa8be787e2b",
              "IPY_MODEL_ef98231c50f84dd4a8bfd6c618d06faa"
            ],
            "layout": "IPY_MODEL_8ec0433c6f674746a55e78b2250a714b"
          }
        },
        "c5630a37a19f4994a02a6eea16c6dac6": {
          "model_module": "@jupyter-widgets/controls",
          "model_name": "HTMLModel",
          "model_module_version": "1.5.0",
          "state": {
            "_dom_classes": [],
            "_model_module": "@jupyter-widgets/controls",
            "_model_module_version": "1.5.0",
            "_model_name": "HTMLModel",
            "_view_count": null,
            "_view_module": "@jupyter-widgets/controls",
            "_view_module_version": "1.5.0",
            "_view_name": "HTMLView",
            "description": "",
            "description_tooltip": null,
            "layout": "IPY_MODEL_eabb8eb758e044efbdcf9117197ad247",
            "placeholder": "​",
            "style": "IPY_MODEL_716d9f1abeb94e7f85bd0eb79d73dafa",
            "value": "100%"
          }
        },
        "1fe2f33d0c7c4371a6423fa8be787e2b": {
          "model_module": "@jupyter-widgets/controls",
          "model_name": "FloatProgressModel",
          "model_module_version": "1.5.0",
          "state": {
            "_dom_classes": [],
            "_model_module": "@jupyter-widgets/controls",
            "_model_module_version": "1.5.0",
            "_model_name": "FloatProgressModel",
            "_view_count": null,
            "_view_module": "@jupyter-widgets/controls",
            "_view_module_version": "1.5.0",
            "_view_name": "ProgressView",
            "bar_style": "success",
            "description": "",
            "description_tooltip": null,
            "layout": "IPY_MODEL_b036a1e0ee03440f9a4827c1a18124e2",
            "max": 102530333,
            "min": 0,
            "orientation": "horizontal",
            "style": "IPY_MODEL_e8f43e5c59a3443a928c4f62509327e2",
            "value": 102530333
          }
        },
        "ef98231c50f84dd4a8bfd6c618d06faa": {
          "model_module": "@jupyter-widgets/controls",
          "model_name": "HTMLModel",
          "model_module_version": "1.5.0",
          "state": {
            "_dom_classes": [],
            "_model_module": "@jupyter-widgets/controls",
            "_model_module_version": "1.5.0",
            "_model_name": "HTMLModel",
            "_view_count": null,
            "_view_module": "@jupyter-widgets/controls",
            "_view_module_version": "1.5.0",
            "_view_name": "HTMLView",
            "description": "",
            "description_tooltip": null,
            "layout": "IPY_MODEL_08556260f1c8419ca4a706efc0cebb04",
            "placeholder": "​",
            "style": "IPY_MODEL_147dfa2aaa234ff39ad83e8f0e61a3e1",
            "value": " 97.8M/97.8M [00:01&lt;00:00, 94.6MB/s]"
          }
        },
        "8ec0433c6f674746a55e78b2250a714b": {
          "model_module": "@jupyter-widgets/base",
          "model_name": "LayoutModel",
          "model_module_version": "1.2.0",
          "state": {
            "_model_module": "@jupyter-widgets/base",
            "_model_module_version": "1.2.0",
            "_model_name": "LayoutModel",
            "_view_count": null,
            "_view_module": "@jupyter-widgets/base",
            "_view_module_version": "1.2.0",
            "_view_name": "LayoutView",
            "align_content": null,
            "align_items": null,
            "align_self": null,
            "border": null,
            "bottom": null,
            "display": null,
            "flex": null,
            "flex_flow": null,
            "grid_area": null,
            "grid_auto_columns": null,
            "grid_auto_flow": null,
            "grid_auto_rows": null,
            "grid_column": null,
            "grid_gap": null,
            "grid_row": null,
            "grid_template_areas": null,
            "grid_template_columns": null,
            "grid_template_rows": null,
            "height": null,
            "justify_content": null,
            "justify_items": null,
            "left": null,
            "margin": null,
            "max_height": null,
            "max_width": null,
            "min_height": null,
            "min_width": null,
            "object_fit": null,
            "object_position": null,
            "order": null,
            "overflow": null,
            "overflow_x": null,
            "overflow_y": null,
            "padding": null,
            "right": null,
            "top": null,
            "visibility": null,
            "width": null
          }
        },
        "eabb8eb758e044efbdcf9117197ad247": {
          "model_module": "@jupyter-widgets/base",
          "model_name": "LayoutModel",
          "model_module_version": "1.2.0",
          "state": {
            "_model_module": "@jupyter-widgets/base",
            "_model_module_version": "1.2.0",
            "_model_name": "LayoutModel",
            "_view_count": null,
            "_view_module": "@jupyter-widgets/base",
            "_view_module_version": "1.2.0",
            "_view_name": "LayoutView",
            "align_content": null,
            "align_items": null,
            "align_self": null,
            "border": null,
            "bottom": null,
            "display": null,
            "flex": null,
            "flex_flow": null,
            "grid_area": null,
            "grid_auto_columns": null,
            "grid_auto_flow": null,
            "grid_auto_rows": null,
            "grid_column": null,
            "grid_gap": null,
            "grid_row": null,
            "grid_template_areas": null,
            "grid_template_columns": null,
            "grid_template_rows": null,
            "height": null,
            "justify_content": null,
            "justify_items": null,
            "left": null,
            "margin": null,
            "max_height": null,
            "max_width": null,
            "min_height": null,
            "min_width": null,
            "object_fit": null,
            "object_position": null,
            "order": null,
            "overflow": null,
            "overflow_x": null,
            "overflow_y": null,
            "padding": null,
            "right": null,
            "top": null,
            "visibility": null,
            "width": null
          }
        },
        "716d9f1abeb94e7f85bd0eb79d73dafa": {
          "model_module": "@jupyter-widgets/controls",
          "model_name": "DescriptionStyleModel",
          "model_module_version": "1.5.0",
          "state": {
            "_model_module": "@jupyter-widgets/controls",
            "_model_module_version": "1.5.0",
            "_model_name": "DescriptionStyleModel",
            "_view_count": null,
            "_view_module": "@jupyter-widgets/base",
            "_view_module_version": "1.2.0",
            "_view_name": "StyleView",
            "description_width": ""
          }
        },
        "b036a1e0ee03440f9a4827c1a18124e2": {
          "model_module": "@jupyter-widgets/base",
          "model_name": "LayoutModel",
          "model_module_version": "1.2.0",
          "state": {
            "_model_module": "@jupyter-widgets/base",
            "_model_module_version": "1.2.0",
            "_model_name": "LayoutModel",
            "_view_count": null,
            "_view_module": "@jupyter-widgets/base",
            "_view_module_version": "1.2.0",
            "_view_name": "LayoutView",
            "align_content": null,
            "align_items": null,
            "align_self": null,
            "border": null,
            "bottom": null,
            "display": null,
            "flex": null,
            "flex_flow": null,
            "grid_area": null,
            "grid_auto_columns": null,
            "grid_auto_flow": null,
            "grid_auto_rows": null,
            "grid_column": null,
            "grid_gap": null,
            "grid_row": null,
            "grid_template_areas": null,
            "grid_template_columns": null,
            "grid_template_rows": null,
            "height": null,
            "justify_content": null,
            "justify_items": null,
            "left": null,
            "margin": null,
            "max_height": null,
            "max_width": null,
            "min_height": null,
            "min_width": null,
            "object_fit": null,
            "object_position": null,
            "order": null,
            "overflow": null,
            "overflow_x": null,
            "overflow_y": null,
            "padding": null,
            "right": null,
            "top": null,
            "visibility": null,
            "width": null
          }
        },
        "e8f43e5c59a3443a928c4f62509327e2": {
          "model_module": "@jupyter-widgets/controls",
          "model_name": "ProgressStyleModel",
          "model_module_version": "1.5.0",
          "state": {
            "_model_module": "@jupyter-widgets/controls",
            "_model_module_version": "1.5.0",
            "_model_name": "ProgressStyleModel",
            "_view_count": null,
            "_view_module": "@jupyter-widgets/base",
            "_view_module_version": "1.2.0",
            "_view_name": "StyleView",
            "bar_color": null,
            "description_width": ""
          }
        },
        "08556260f1c8419ca4a706efc0cebb04": {
          "model_module": "@jupyter-widgets/base",
          "model_name": "LayoutModel",
          "model_module_version": "1.2.0",
          "state": {
            "_model_module": "@jupyter-widgets/base",
            "_model_module_version": "1.2.0",
            "_model_name": "LayoutModel",
            "_view_count": null,
            "_view_module": "@jupyter-widgets/base",
            "_view_module_version": "1.2.0",
            "_view_name": "LayoutView",
            "align_content": null,
            "align_items": null,
            "align_self": null,
            "border": null,
            "bottom": null,
            "display": null,
            "flex": null,
            "flex_flow": null,
            "grid_area": null,
            "grid_auto_columns": null,
            "grid_auto_flow": null,
            "grid_auto_rows": null,
            "grid_column": null,
            "grid_gap": null,
            "grid_row": null,
            "grid_template_areas": null,
            "grid_template_columns": null,
            "grid_template_rows": null,
            "height": null,
            "justify_content": null,
            "justify_items": null,
            "left": null,
            "margin": null,
            "max_height": null,
            "max_width": null,
            "min_height": null,
            "min_width": null,
            "object_fit": null,
            "object_position": null,
            "order": null,
            "overflow": null,
            "overflow_x": null,
            "overflow_y": null,
            "padding": null,
            "right": null,
            "top": null,
            "visibility": null,
            "width": null
          }
        },
        "147dfa2aaa234ff39ad83e8f0e61a3e1": {
          "model_module": "@jupyter-widgets/controls",
          "model_name": "DescriptionStyleModel",
          "model_module_version": "1.5.0",
          "state": {
            "_model_module": "@jupyter-widgets/controls",
            "_model_module_version": "1.5.0",
            "_model_name": "DescriptionStyleModel",
            "_view_count": null,
            "_view_module": "@jupyter-widgets/base",
            "_view_module_version": "1.2.0",
            "_view_name": "StyleView",
            "description_width": ""
          }
        }
      }
    }
  },
  "nbformat": 4,
  "nbformat_minor": 0
}